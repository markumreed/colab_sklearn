{
  "nbformat": 4,
  "nbformat_minor": 0,
  "metadata": {
    "colab": {
      "name": "covid_and_financial_markets.ipynb",
      "provenance": [],
      "collapsed_sections": [],
      "authorship_tag": "ABX9TyMUIv1J075cU4lrrO4kzqZX",
      "include_colab_link": true
    },
    "kernelspec": {
      "name": "python3",
      "display_name": "Python 3"
    }
  },
  "cells": [
    {
      "cell_type": "markdown",
      "metadata": {
        "id": "view-in-github",
        "colab_type": "text"
      },
      "source": [
        "<a href=\"https://colab.research.google.com/github/markumreed/colab_sklearn/blob/main/covid_and_financial_markets.ipynb\" target=\"_parent\"><img src=\"https://colab.research.google.com/assets/colab-badge.svg\" alt=\"Open In Colab\"/></a>"
      ]
    },
    {
      "cell_type": "markdown",
      "metadata": {
        "id": "z31eL8gK_AN6"
      },
      "source": [
        "# Time Series Data\n",
        "1. Covid 19 Dataset: John's Hopkins\n",
        "1. Financial/Stock Data\n",
        "\n",
        "\n",
        "## Covid 19 Datasets\n",
        "\n",
        "[John's Hopkins Data](https://github.com/CSSEGISandData/COVID-19) can be found here. \n",
        "\n",
        "```shell\n",
        "git clone https://github.com/CSSEGISandData/COVID-19.git\n",
        "```"
      ]
    },
    {
      "cell_type": "code",
      "metadata": {
        "colab": {
          "base_uri": "https://localhost:8080/"
        },
        "id": "ml4EZktc-_VO",
        "outputId": "8957921f-e3f5-44b2-d94e-a5f1211a148c"
      },
      "source": [
        "!git clone https://github.com/CSSEGISandData/COVID-19.git"
      ],
      "execution_count": null,
      "outputs": [
        {
          "output_type": "stream",
          "text": [
            "Cloning into 'COVID-19'...\n",
            "remote: Enumerating objects: 6, done.\u001b[K\n",
            "remote: Counting objects: 100% (6/6), done.\u001b[K\n",
            "remote: Compressing objects: 100% (6/6), done.\u001b[K\n",
            "remote: Total 104397 (delta 0), reused 2 (delta 0), pack-reused 104391\u001b[K\n",
            "Receiving objects: 100% (104397/104397), 877.56 MiB | 28.90 MiB/s, done.\n",
            "Resolving deltas: 100% (74021/74021), done.\n",
            "Checking out files: 100% (970/970), done.\n"
          ],
          "name": "stdout"
        }
      ]
    },
    {
      "cell_type": "code",
      "metadata": {
        "colab": {
          "base_uri": "https://localhost:8080/"
        },
        "id": "DlLROQxSBiN_",
        "outputId": "1eccda43-0d6f-45e9-c7f9-bf2a14f507ad"
      },
      "source": [
        "%%shell\n",
        "ls COVID-19/archived_data/archived_time_series/"
      ],
      "execution_count": null,
      "outputs": [
        {
          "output_type": "stream",
          "text": [
            "README.md\n",
            "time_series_19-covid-Confirmed_archived_0325.csv\n",
            "time_series_19-covid-Deaths_archived_0325.csv\n",
            "time_series_19-covid-Recovered_archived_0325.csv\n",
            "time_series_2019-ncov-Confirmed.csv\n",
            "time_series_2019-ncov-Deaths.csv\n",
            "time_series_2019-ncov-Recovered.csv\n"
          ],
          "name": "stdout"
        },
        {
          "output_type": "execute_result",
          "data": {
            "text/plain": [
              ""
            ]
          },
          "metadata": {
            "tags": []
          },
          "execution_count": 5
        }
      ]
    },
    {
      "cell_type": "markdown",
      "metadata": {
        "id": "w_JZjoD3B5yA"
      },
      "source": [
        "## Preamble"
      ]
    },
    {
      "cell_type": "code",
      "metadata": {
        "id": "pck0Orw_B8XT"
      },
      "source": [
        "import pandas as pd\n",
        "import numpy as np\n",
        "import seaborn as sns\n",
        "import matplotlib.pyplot as plt\n",
        "import plotly.express as px\n",
        "%matplotlib inline"
      ],
      "execution_count": null,
      "outputs": []
    },
    {
      "cell_type": "code",
      "metadata": {
        "id": "w5VarQibBkpd"
      },
      "source": [
        "path = \"COVID-19/archived_data/archived_time_series/\"\n",
        "confirmed = pd.read_csv(path + \"time_series_2019-ncov-Confirmed.csv\")\n",
        "deaths = pd.read_csv(path + \"time_series_2019-ncov-Deaths.csv\")\n",
        "recovered = pd.read_csv(path + \"time_series_2019-ncov-Recovered.csv\")"
      ],
      "execution_count": null,
      "outputs": []
    },
    {
      "cell_type": "code",
      "metadata": {
        "colab": {
          "base_uri": "https://localhost:8080/",
          "height": 145
        },
        "id": "FbgvLFPXCaLE",
        "outputId": "57c238c2-8d65-4450-e373-a638f1e12e78"
      },
      "source": [
        "confirmed.head(2)"
      ],
      "execution_count": null,
      "outputs": [
        {
          "output_type": "execute_result",
          "data": {
            "text/html": [
              "<div>\n",
              "<style scoped>\n",
              "    .dataframe tbody tr th:only-of-type {\n",
              "        vertical-align: middle;\n",
              "    }\n",
              "\n",
              "    .dataframe tbody tr th {\n",
              "        vertical-align: top;\n",
              "    }\n",
              "\n",
              "    .dataframe thead th {\n",
              "        text-align: right;\n",
              "    }\n",
              "</style>\n",
              "<table border=\"1\" class=\"dataframe\">\n",
              "  <thead>\n",
              "    <tr style=\"text-align: right;\">\n",
              "      <th></th>\n",
              "      <th>Province/State</th>\n",
              "      <th>Country/Region</th>\n",
              "      <th>Lat</th>\n",
              "      <th>Long</th>\n",
              "      <th>1/21/20 22:00</th>\n",
              "      <th>1/22/20 12:00</th>\n",
              "      <th>1/23/20 12:00</th>\n",
              "      <th>1/24/20 0:00</th>\n",
              "      <th>1/24/20 12:00</th>\n",
              "      <th>1/25/20 0:00</th>\n",
              "      <th>1/25/20 12:00</th>\n",
              "      <th>1/25/20 22:00</th>\n",
              "      <th>1/26/20 11:00</th>\n",
              "      <th>1/26/20 23:00</th>\n",
              "      <th>1/27/20 9:00</th>\n",
              "      <th>1/27/20 19:00</th>\n",
              "      <th>1/27/20 20:30</th>\n",
              "      <th>1/28/20 13:00</th>\n",
              "      <th>1/28/20 18:00</th>\n",
              "      <th>1/28/20 23:00</th>\n",
              "      <th>1/29/20 13:30</th>\n",
              "      <th>1/29/20 14:30</th>\n",
              "      <th>1/29/20 21:00</th>\n",
              "      <th>1/30/20 11:00</th>\n",
              "      <th>1/31/20 14:00</th>\n",
              "      <th>2/1/20 10:00</th>\n",
              "      <th>2/2/20 21:00</th>\n",
              "      <th>2/3/20 21:00</th>\n",
              "      <th>2/4/20 9:40</th>\n",
              "      <th>2/4/20 22:00</th>\n",
              "      <th>2/5/20 9:00</th>\n",
              "      <th>2/5/20 23:00</th>\n",
              "      <th>2/6/20 9:00</th>\n",
              "      <th>2/6/20 14:20</th>\n",
              "      <th>2/7/20 20:13</th>\n",
              "      <th>2/7/20 22:50</th>\n",
              "      <th>2/8/20 10:24</th>\n",
              "      <th>2/8/20 23:04</th>\n",
              "      <th>2/9/20 10:30</th>\n",
              "      <th>2/9/20 23:20</th>\n",
              "      <th>2/10/20 10:30</th>\n",
              "      <th>2/10/20 19:30</th>\n",
              "      <th>2/11/20 10:50</th>\n",
              "      <th>2/11/20 20:44</th>\n",
              "      <th>2/12/20 10:20</th>\n",
              "      <th>2/12/20 22:00</th>\n",
              "      <th>2/13/20 10:00</th>\n",
              "      <th>2/13/20 21:15</th>\n",
              "      <th>2/14/20 11:23</th>\n",
              "    </tr>\n",
              "  </thead>\n",
              "  <tbody>\n",
              "    <tr>\n",
              "      <th>0</th>\n",
              "      <td>Anhui</td>\n",
              "      <td>Mainland China</td>\n",
              "      <td>31.82571</td>\n",
              "      <td>117.2264</td>\n",
              "      <td>NaN</td>\n",
              "      <td>1.0</td>\n",
              "      <td>9.0</td>\n",
              "      <td>15.0</td>\n",
              "      <td>15.0</td>\n",
              "      <td>39.0</td>\n",
              "      <td>39.0</td>\n",
              "      <td>60.0</td>\n",
              "      <td>60.0</td>\n",
              "      <td>70.0</td>\n",
              "      <td>70.0</td>\n",
              "      <td>70.0</td>\n",
              "      <td>106.0</td>\n",
              "      <td>106.0</td>\n",
              "      <td>106.0</td>\n",
              "      <td>152.0</td>\n",
              "      <td>152.0</td>\n",
              "      <td>152.0</td>\n",
              "      <td>200.0</td>\n",
              "      <td>200.0</td>\n",
              "      <td>237.0</td>\n",
              "      <td>297.0</td>\n",
              "      <td>408.0</td>\n",
              "      <td>480.0</td>\n",
              "      <td>480.0</td>\n",
              "      <td>530.0</td>\n",
              "      <td>530.0</td>\n",
              "      <td>591.0</td>\n",
              "      <td>591.0</td>\n",
              "      <td>591.0</td>\n",
              "      <td>665.0</td>\n",
              "      <td>733.0</td>\n",
              "      <td>733.0</td>\n",
              "      <td>779.0</td>\n",
              "      <td>779.0</td>\n",
              "      <td>830.0</td>\n",
              "      <td>830.0</td>\n",
              "      <td>830.0</td>\n",
              "      <td>860.0</td>\n",
              "      <td>889.0</td>\n",
              "      <td>889.0</td>\n",
              "      <td>910.0</td>\n",
              "      <td>910.0</td>\n",
              "      <td>934</td>\n",
              "      <td>934</td>\n",
              "    </tr>\n",
              "    <tr>\n",
              "      <th>1</th>\n",
              "      <td>Beijing</td>\n",
              "      <td>Mainland China</td>\n",
              "      <td>40.18238</td>\n",
              "      <td>116.4142</td>\n",
              "      <td>10.0</td>\n",
              "      <td>14.0</td>\n",
              "      <td>22.0</td>\n",
              "      <td>26.0</td>\n",
              "      <td>36.0</td>\n",
              "      <td>36.0</td>\n",
              "      <td>41.0</td>\n",
              "      <td>51.0</td>\n",
              "      <td>68.0</td>\n",
              "      <td>68.0</td>\n",
              "      <td>72.0</td>\n",
              "      <td>80.0</td>\n",
              "      <td>80.0</td>\n",
              "      <td>91.0</td>\n",
              "      <td>91.0</td>\n",
              "      <td>91.0</td>\n",
              "      <td>111.0</td>\n",
              "      <td>111.0</td>\n",
              "      <td>111.0</td>\n",
              "      <td>114.0</td>\n",
              "      <td>139.0</td>\n",
              "      <td>168.0</td>\n",
              "      <td>191.0</td>\n",
              "      <td>212.0</td>\n",
              "      <td>212.0</td>\n",
              "      <td>228.0</td>\n",
              "      <td>253.0</td>\n",
              "      <td>274.0</td>\n",
              "      <td>274.0</td>\n",
              "      <td>274.0</td>\n",
              "      <td>297.0</td>\n",
              "      <td>315.0</td>\n",
              "      <td>315.0</td>\n",
              "      <td>326.0</td>\n",
              "      <td>326.0</td>\n",
              "      <td>337.0</td>\n",
              "      <td>337.0</td>\n",
              "      <td>337.0</td>\n",
              "      <td>342.0</td>\n",
              "      <td>342.0</td>\n",
              "      <td>352.0</td>\n",
              "      <td>366.0</td>\n",
              "      <td>366.0</td>\n",
              "      <td>366</td>\n",
              "      <td>372</td>\n",
              "    </tr>\n",
              "  </tbody>\n",
              "</table>\n",
              "</div>"
            ],
            "text/plain": [
              "  Province/State  Country/Region  ...  2/13/20 21:15  2/14/20 11:23\n",
              "0          Anhui  Mainland China  ...            934            934\n",
              "1        Beijing  Mainland China  ...            366            372\n",
              "\n",
              "[2 rows x 49 columns]"
            ]
          },
          "metadata": {
            "tags": []
          },
          "execution_count": 10
        }
      ]
    },
    {
      "cell_type": "code",
      "metadata": {
        "colab": {
          "base_uri": "https://localhost:8080/",
          "height": 145
        },
        "id": "h5ZZdqhwCc-U",
        "outputId": "a07b7db7-c9b1-4e64-d1e4-ad339623ac0c"
      },
      "source": [
        "deaths.head(2)"
      ],
      "execution_count": null,
      "outputs": [
        {
          "output_type": "execute_result",
          "data": {
            "text/html": [
              "<div>\n",
              "<style scoped>\n",
              "    .dataframe tbody tr th:only-of-type {\n",
              "        vertical-align: middle;\n",
              "    }\n",
              "\n",
              "    .dataframe tbody tr th {\n",
              "        vertical-align: top;\n",
              "    }\n",
              "\n",
              "    .dataframe thead th {\n",
              "        text-align: right;\n",
              "    }\n",
              "</style>\n",
              "<table border=\"1\" class=\"dataframe\">\n",
              "  <thead>\n",
              "    <tr style=\"text-align: right;\">\n",
              "      <th></th>\n",
              "      <th>Province/State</th>\n",
              "      <th>Country/Region</th>\n",
              "      <th>Lat</th>\n",
              "      <th>Long</th>\n",
              "      <th>1/21/20 22:00</th>\n",
              "      <th>1/22/20 12:00</th>\n",
              "      <th>1/23/20 12:00</th>\n",
              "      <th>1/24/20 0:00</th>\n",
              "      <th>1/24/20 12:00</th>\n",
              "      <th>1/25/20 0:00</th>\n",
              "      <th>1/25/20 12:00</th>\n",
              "      <th>1/25/20 22:00</th>\n",
              "      <th>1/26/20 11:00</th>\n",
              "      <th>1/26/20 23:00</th>\n",
              "      <th>1/27/20 9:00</th>\n",
              "      <th>1/27/20 19:00</th>\n",
              "      <th>1/27/20 20:30</th>\n",
              "      <th>1/28/20 13:00</th>\n",
              "      <th>1/28/20 18:00</th>\n",
              "      <th>1/28/20 23:00</th>\n",
              "      <th>1/29/20 13:30</th>\n",
              "      <th>1/29/20 14:30</th>\n",
              "      <th>1/29/20 21:00</th>\n",
              "      <th>1/30/20 11:00</th>\n",
              "      <th>1/31/20 14:00</th>\n",
              "      <th>2/1/20 10:00</th>\n",
              "      <th>2/2/20 21:00</th>\n",
              "      <th>2/3/20 21:00</th>\n",
              "      <th>2/4/20 9:40</th>\n",
              "      <th>2/4/20 22:00</th>\n",
              "      <th>2/5/20 9:00</th>\n",
              "      <th>2/5/20 23:00</th>\n",
              "      <th>2/6/20 9:00</th>\n",
              "      <th>2/6/20 14:20</th>\n",
              "      <th>2/7/20 20:13</th>\n",
              "      <th>2/7/20 22:50</th>\n",
              "      <th>2/8/20 10:24</th>\n",
              "      <th>2/8/20 23:04</th>\n",
              "      <th>2/9/20 10:30</th>\n",
              "      <th>2/9/20 23:20</th>\n",
              "      <th>2/10/20 10:30</th>\n",
              "      <th>2/10/20 19:30</th>\n",
              "      <th>2/11/20 10:50</th>\n",
              "      <th>2/11/20 20:44</th>\n",
              "      <th>2/12/20 10:20</th>\n",
              "      <th>2/12/20 22:00</th>\n",
              "      <th>2/13/20 10:00</th>\n",
              "      <th>2/13/20 21:15</th>\n",
              "      <th>2/14/20 11:23</th>\n",
              "    </tr>\n",
              "  </thead>\n",
              "  <tbody>\n",
              "    <tr>\n",
              "      <th>0</th>\n",
              "      <td>Anhui</td>\n",
              "      <td>Mainland China</td>\n",
              "      <td>31.82571</td>\n",
              "      <td>117.2264</td>\n",
              "      <td>NaN</td>\n",
              "      <td>NaN</td>\n",
              "      <td>NaN</td>\n",
              "      <td>NaN</td>\n",
              "      <td>NaN</td>\n",
              "      <td>NaN</td>\n",
              "      <td>NaN</td>\n",
              "      <td>NaN</td>\n",
              "      <td>NaN</td>\n",
              "      <td>NaN</td>\n",
              "      <td>NaN</td>\n",
              "      <td>NaN</td>\n",
              "      <td>NaN</td>\n",
              "      <td>NaN</td>\n",
              "      <td>NaN</td>\n",
              "      <td>NaN</td>\n",
              "      <td>NaN</td>\n",
              "      <td>NaN</td>\n",
              "      <td>NaN</td>\n",
              "      <td>NaN</td>\n",
              "      <td>NaN</td>\n",
              "      <td>NaN</td>\n",
              "      <td>NaN</td>\n",
              "      <td>NaN</td>\n",
              "      <td>NaN</td>\n",
              "      <td>NaN</td>\n",
              "      <td>NaN</td>\n",
              "      <td>NaN</td>\n",
              "      <td>NaN</td>\n",
              "      <td>NaN</td>\n",
              "      <td>NaN</td>\n",
              "      <td>NaN</td>\n",
              "      <td>0.0</td>\n",
              "      <td>1.0</td>\n",
              "      <td>1.0</td>\n",
              "      <td>3.0</td>\n",
              "      <td>3.0</td>\n",
              "      <td>3.0</td>\n",
              "      <td>4.0</td>\n",
              "      <td>4.0</td>\n",
              "      <td>4.0</td>\n",
              "      <td>5.0</td>\n",
              "      <td>5.0</td>\n",
              "      <td>6</td>\n",
              "      <td>6</td>\n",
              "    </tr>\n",
              "    <tr>\n",
              "      <th>1</th>\n",
              "      <td>Beijing</td>\n",
              "      <td>Mainland China</td>\n",
              "      <td>40.18238</td>\n",
              "      <td>116.4142</td>\n",
              "      <td>NaN</td>\n",
              "      <td>NaN</td>\n",
              "      <td>NaN</td>\n",
              "      <td>NaN</td>\n",
              "      <td>NaN</td>\n",
              "      <td>NaN</td>\n",
              "      <td>NaN</td>\n",
              "      <td>NaN</td>\n",
              "      <td>NaN</td>\n",
              "      <td>NaN</td>\n",
              "      <td>NaN</td>\n",
              "      <td>1.0</td>\n",
              "      <td>1.0</td>\n",
              "      <td>1.0</td>\n",
              "      <td>1.0</td>\n",
              "      <td>1.0</td>\n",
              "      <td>1.0</td>\n",
              "      <td>1.0</td>\n",
              "      <td>1.0</td>\n",
              "      <td>1.0</td>\n",
              "      <td>1.0</td>\n",
              "      <td>1.0</td>\n",
              "      <td>1.0</td>\n",
              "      <td>1.0</td>\n",
              "      <td>1.0</td>\n",
              "      <td>1.0</td>\n",
              "      <td>1.0</td>\n",
              "      <td>1.0</td>\n",
              "      <td>1.0</td>\n",
              "      <td>1.0</td>\n",
              "      <td>1.0</td>\n",
              "      <td>2.0</td>\n",
              "      <td>2.0</td>\n",
              "      <td>2.0</td>\n",
              "      <td>2.0</td>\n",
              "      <td>2.0</td>\n",
              "      <td>2.0</td>\n",
              "      <td>2.0</td>\n",
              "      <td>3.0</td>\n",
              "      <td>3.0</td>\n",
              "      <td>3.0</td>\n",
              "      <td>3.0</td>\n",
              "      <td>3.0</td>\n",
              "      <td>3</td>\n",
              "      <td>3</td>\n",
              "    </tr>\n",
              "  </tbody>\n",
              "</table>\n",
              "</div>"
            ],
            "text/plain": [
              "  Province/State  Country/Region  ...  2/13/20 21:15  2/14/20 11:23\n",
              "0          Anhui  Mainland China  ...              6              6\n",
              "1        Beijing  Mainland China  ...              3              3\n",
              "\n",
              "[2 rows x 49 columns]"
            ]
          },
          "metadata": {
            "tags": []
          },
          "execution_count": 12
        }
      ]
    },
    {
      "cell_type": "code",
      "metadata": {
        "colab": {
          "base_uri": "https://localhost:8080/",
          "height": 145
        },
        "id": "7qx2VwCTCsd8",
        "outputId": "ff7225df-263f-451e-a91b-64f00fee813d"
      },
      "source": [
        "recovered.head(2)"
      ],
      "execution_count": null,
      "outputs": [
        {
          "output_type": "execute_result",
          "data": {
            "text/html": [
              "<div>\n",
              "<style scoped>\n",
              "    .dataframe tbody tr th:only-of-type {\n",
              "        vertical-align: middle;\n",
              "    }\n",
              "\n",
              "    .dataframe tbody tr th {\n",
              "        vertical-align: top;\n",
              "    }\n",
              "\n",
              "    .dataframe thead th {\n",
              "        text-align: right;\n",
              "    }\n",
              "</style>\n",
              "<table border=\"1\" class=\"dataframe\">\n",
              "  <thead>\n",
              "    <tr style=\"text-align: right;\">\n",
              "      <th></th>\n",
              "      <th>Province/State</th>\n",
              "      <th>Country/Region</th>\n",
              "      <th>Lat</th>\n",
              "      <th>Long</th>\n",
              "      <th>1/21/20 22:00</th>\n",
              "      <th>1/22/20 12:00</th>\n",
              "      <th>1/23/20 12:00</th>\n",
              "      <th>1/24/20 0:00</th>\n",
              "      <th>1/24/20 12:00</th>\n",
              "      <th>1/25/20 0:00</th>\n",
              "      <th>1/25/20 12:00</th>\n",
              "      <th>1/25/20 22:00</th>\n",
              "      <th>1/26/20 11:00</th>\n",
              "      <th>1/26/20 23:00</th>\n",
              "      <th>1/27/20 9:00</th>\n",
              "      <th>1/27/20 19:00</th>\n",
              "      <th>1/27/20 20:30</th>\n",
              "      <th>1/28/20 13:00</th>\n",
              "      <th>1/28/20 18:00</th>\n",
              "      <th>1/28/20 23:00</th>\n",
              "      <th>1/29/20 13:30</th>\n",
              "      <th>1/29/20 14:30</th>\n",
              "      <th>1/29/20 21:00</th>\n",
              "      <th>1/30/20 11:00</th>\n",
              "      <th>1/31/20 14:00</th>\n",
              "      <th>2/1/20 10:00</th>\n",
              "      <th>2/2/20 21:00</th>\n",
              "      <th>2/3/20 21:00</th>\n",
              "      <th>2/4/20 9:40</th>\n",
              "      <th>2/4/20 22:00</th>\n",
              "      <th>2/5/20 9:00</th>\n",
              "      <th>2/5/20 23:00</th>\n",
              "      <th>2/6/20 9:00</th>\n",
              "      <th>2/6/20 14:20</th>\n",
              "      <th>2/7/20 20:13</th>\n",
              "      <th>2/7/20 22:50</th>\n",
              "      <th>2/8/20 10:24</th>\n",
              "      <th>2/8/20 23:04</th>\n",
              "      <th>2/9/20 10:30</th>\n",
              "      <th>2/9/20 23:20</th>\n",
              "      <th>2/10/20 10:30</th>\n",
              "      <th>2/10/20 19:30</th>\n",
              "      <th>2/11/20 10:50</th>\n",
              "      <th>2/11/20 20:44</th>\n",
              "      <th>2/12/20 10:20</th>\n",
              "      <th>2/12/20 22:00</th>\n",
              "      <th>2/13/20 10:00</th>\n",
              "      <th>2/13/20 21:15</th>\n",
              "      <th>2/14/20 11:23</th>\n",
              "    </tr>\n",
              "  </thead>\n",
              "  <tbody>\n",
              "    <tr>\n",
              "      <th>0</th>\n",
              "      <td>Anhui</td>\n",
              "      <td>Mainland China</td>\n",
              "      <td>31.82571</td>\n",
              "      <td>117.2264</td>\n",
              "      <td>NaN</td>\n",
              "      <td>NaN</td>\n",
              "      <td>NaN</td>\n",
              "      <td>NaN</td>\n",
              "      <td>NaN</td>\n",
              "      <td>NaN</td>\n",
              "      <td>NaN</td>\n",
              "      <td>NaN</td>\n",
              "      <td>NaN</td>\n",
              "      <td>NaN</td>\n",
              "      <td>NaN</td>\n",
              "      <td>NaN</td>\n",
              "      <td>NaN</td>\n",
              "      <td>NaN</td>\n",
              "      <td>NaN</td>\n",
              "      <td>NaN</td>\n",
              "      <td>2.0</td>\n",
              "      <td>2.0</td>\n",
              "      <td>2.0</td>\n",
              "      <td>2.0</td>\n",
              "      <td>3.0</td>\n",
              "      <td>5.0</td>\n",
              "      <td>7.0</td>\n",
              "      <td>14.0</td>\n",
              "      <td>14.0</td>\n",
              "      <td>20.0</td>\n",
              "      <td>23.0</td>\n",
              "      <td>23.0</td>\n",
              "      <td>34.0</td>\n",
              "      <td>34.0</td>\n",
              "      <td>47.0</td>\n",
              "      <td>47.0</td>\n",
              "      <td>59.0</td>\n",
              "      <td>59.0</td>\n",
              "      <td>72.0</td>\n",
              "      <td>73.0</td>\n",
              "      <td>88.0</td>\n",
              "      <td>88.0</td>\n",
              "      <td>105.0</td>\n",
              "      <td>108.0</td>\n",
              "      <td>127.0</td>\n",
              "      <td>128.0</td>\n",
              "      <td>157.0</td>\n",
              "      <td>166</td>\n",
              "      <td>193</td>\n",
              "    </tr>\n",
              "    <tr>\n",
              "      <th>1</th>\n",
              "      <td>Beijing</td>\n",
              "      <td>Mainland China</td>\n",
              "      <td>40.18238</td>\n",
              "      <td>116.4142</td>\n",
              "      <td>NaN</td>\n",
              "      <td>NaN</td>\n",
              "      <td>NaN</td>\n",
              "      <td>NaN</td>\n",
              "      <td>1.0</td>\n",
              "      <td>1.0</td>\n",
              "      <td>2.0</td>\n",
              "      <td>2.0</td>\n",
              "      <td>2.0</td>\n",
              "      <td>2.0</td>\n",
              "      <td>2.0</td>\n",
              "      <td>2.0</td>\n",
              "      <td>2.0</td>\n",
              "      <td>4.0</td>\n",
              "      <td>4.0</td>\n",
              "      <td>4.0</td>\n",
              "      <td>4.0</td>\n",
              "      <td>4.0</td>\n",
              "      <td>4.0</td>\n",
              "      <td>4.0</td>\n",
              "      <td>5.0</td>\n",
              "      <td>9.0</td>\n",
              "      <td>9.0</td>\n",
              "      <td>12.0</td>\n",
              "      <td>12.0</td>\n",
              "      <td>23.0</td>\n",
              "      <td>24.0</td>\n",
              "      <td>31.0</td>\n",
              "      <td>31.0</td>\n",
              "      <td>31.0</td>\n",
              "      <td>33.0</td>\n",
              "      <td>34.0</td>\n",
              "      <td>34.0</td>\n",
              "      <td>37.0</td>\n",
              "      <td>37.0</td>\n",
              "      <td>44.0</td>\n",
              "      <td>44.0</td>\n",
              "      <td>44.0</td>\n",
              "      <td>48.0</td>\n",
              "      <td>48.0</td>\n",
              "      <td>56.0</td>\n",
              "      <td>68.0</td>\n",
              "      <td>69.0</td>\n",
              "      <td>69</td>\n",
              "      <td>80</td>\n",
              "    </tr>\n",
              "  </tbody>\n",
              "</table>\n",
              "</div>"
            ],
            "text/plain": [
              "  Province/State  Country/Region  ...  2/13/20 21:15  2/14/20 11:23\n",
              "0          Anhui  Mainland China  ...            166            193\n",
              "1        Beijing  Mainland China  ...             69             80\n",
              "\n",
              "[2 rows x 49 columns]"
            ]
          },
          "metadata": {
            "tags": []
          },
          "execution_count": 13
        }
      ]
    },
    {
      "cell_type": "markdown",
      "metadata": {
        "id": "Hr5AFo_eC0sB"
      },
      "source": [
        "## Reshape by Melting"
      ]
    },
    {
      "cell_type": "code",
      "metadata": {
        "colab": {
          "base_uri": "https://localhost:8080/"
        },
        "id": "80exsdsKC8-e",
        "outputId": "fbaaf411-9b19-441c-c86b-9ebfc048f050"
      },
      "source": [
        "confirmed.columns"
      ],
      "execution_count": null,
      "outputs": [
        {
          "output_type": "execute_result",
          "data": {
            "text/plain": [
              "Index(['Province/State', 'Country/Region', 'Lat', 'Long', '1/21/20 22:00',\n",
              "       '1/22/20 12:00', '1/23/20 12:00', '1/24/20 0:00', '1/24/20 12:00',\n",
              "       '1/25/20 0:00', '1/25/20 12:00', '1/25/20 22:00', '1/26/20 11:00',\n",
              "       '1/26/20 23:00', '1/27/20 9:00', '1/27/20 19:00', '1/27/20 20:30',\n",
              "       '1/28/20 13:00', '1/28/20 18:00', '1/28/20 23:00', '1/29/20 13:30',\n",
              "       '1/29/20 14:30', '1/29/20 21:00', '1/30/20 11:00', '1/31/20 14:00',\n",
              "       '2/1/20 10:00', '2/2/20 21:00', '2/3/20 21:00', '2/4/20 9:40',\n",
              "       '2/4/20 22:00', '2/5/20 9:00', '2/5/20 23:00', '2/6/20 9:00',\n",
              "       '2/6/20 14:20', '2/7/20 20:13', '2/7/20 22:50', '2/8/20 10:24',\n",
              "       '2/8/20 23:04', '2/9/20 10:30', '2/9/20 23:20', '2/10/20 10:30',\n",
              "       '2/10/20 19:30', '2/11/20 10:50', '2/11/20 20:44', '2/12/20 10:20',\n",
              "       '2/12/20 22:00', '2/13/20 10:00', '2/13/20 21:15', '2/14/20 11:23'],\n",
              "      dtype='object')"
            ]
          },
          "metadata": {
            "tags": []
          },
          "execution_count": 14
        }
      ]
    },
    {
      "cell_type": "code",
      "metadata": {
        "colab": {
          "base_uri": "https://localhost:8080/",
          "height": 407
        },
        "id": "Gqacr2iDCwP9",
        "outputId": "1a10e327-7246-4630-dd1f-142b601b2c8a"
      },
      "source": [
        "confirmed.melt(id_vars=['Province/State', 'Country/Region', 'Lat', 'Long'], var_name=\"date\", value_name=\"confirmed\")"
      ],
      "execution_count": null,
      "outputs": [
        {
          "output_type": "execute_result",
          "data": {
            "text/html": [
              "<div>\n",
              "<style scoped>\n",
              "    .dataframe tbody tr th:only-of-type {\n",
              "        vertical-align: middle;\n",
              "    }\n",
              "\n",
              "    .dataframe tbody tr th {\n",
              "        vertical-align: top;\n",
              "    }\n",
              "\n",
              "    .dataframe thead th {\n",
              "        text-align: right;\n",
              "    }\n",
              "</style>\n",
              "<table border=\"1\" class=\"dataframe\">\n",
              "  <thead>\n",
              "    <tr style=\"text-align: right;\">\n",
              "      <th></th>\n",
              "      <th>Province/State</th>\n",
              "      <th>Country/Region</th>\n",
              "      <th>Lat</th>\n",
              "      <th>Long</th>\n",
              "      <th>date</th>\n",
              "      <th>confirmed</th>\n",
              "    </tr>\n",
              "  </thead>\n",
              "  <tbody>\n",
              "    <tr>\n",
              "      <th>0</th>\n",
              "      <td>Anhui</td>\n",
              "      <td>Mainland China</td>\n",
              "      <td>31.82571</td>\n",
              "      <td>117.2264</td>\n",
              "      <td>1/21/20 22:00</td>\n",
              "      <td>NaN</td>\n",
              "    </tr>\n",
              "    <tr>\n",
              "      <th>1</th>\n",
              "      <td>Beijing</td>\n",
              "      <td>Mainland China</td>\n",
              "      <td>40.18238</td>\n",
              "      <td>116.4142</td>\n",
              "      <td>1/21/20 22:00</td>\n",
              "      <td>10.0</td>\n",
              "    </tr>\n",
              "    <tr>\n",
              "      <th>2</th>\n",
              "      <td>Chongqing</td>\n",
              "      <td>Mainland China</td>\n",
              "      <td>30.05718</td>\n",
              "      <td>107.8740</td>\n",
              "      <td>1/21/20 22:00</td>\n",
              "      <td>5.0</td>\n",
              "    </tr>\n",
              "    <tr>\n",
              "      <th>3</th>\n",
              "      <td>Fujian</td>\n",
              "      <td>Mainland China</td>\n",
              "      <td>26.07783</td>\n",
              "      <td>117.9895</td>\n",
              "      <td>1/21/20 22:00</td>\n",
              "      <td>NaN</td>\n",
              "    </tr>\n",
              "    <tr>\n",
              "      <th>4</th>\n",
              "      <td>Gansu</td>\n",
              "      <td>Mainland China</td>\n",
              "      <td>36.06110</td>\n",
              "      <td>103.8343</td>\n",
              "      <td>1/21/20 22:00</td>\n",
              "      <td>NaN</td>\n",
              "    </tr>\n",
              "    <tr>\n",
              "      <th>...</th>\n",
              "      <td>...</td>\n",
              "      <td>...</td>\n",
              "      <td>...</td>\n",
              "      <td>...</td>\n",
              "      <td>...</td>\n",
              "      <td>...</td>\n",
              "    </tr>\n",
              "    <tr>\n",
              "      <th>3325</th>\n",
              "      <td>NaN</td>\n",
              "      <td>Belgium</td>\n",
              "      <td>50.50390</td>\n",
              "      <td>4.4699</td>\n",
              "      <td>2/14/20 11:23</td>\n",
              "      <td>1.0</td>\n",
              "    </tr>\n",
              "    <tr>\n",
              "      <th>3326</th>\n",
              "      <td>Madison, WI</td>\n",
              "      <td>US</td>\n",
              "      <td>43.07310</td>\n",
              "      <td>-89.4012</td>\n",
              "      <td>2/14/20 11:23</td>\n",
              "      <td>1.0</td>\n",
              "    </tr>\n",
              "    <tr>\n",
              "      <th>3327</th>\n",
              "      <td>Diamond Princess cruise ship</td>\n",
              "      <td>Others</td>\n",
              "      <td>35.44370</td>\n",
              "      <td>129.6380</td>\n",
              "      <td>2/14/20 11:23</td>\n",
              "      <td>218.0</td>\n",
              "    </tr>\n",
              "    <tr>\n",
              "      <th>3328</th>\n",
              "      <td>San Diego County, CA</td>\n",
              "      <td>US</td>\n",
              "      <td>32.71570</td>\n",
              "      <td>-117.1611</td>\n",
              "      <td>2/14/20 11:23</td>\n",
              "      <td>2.0</td>\n",
              "    </tr>\n",
              "    <tr>\n",
              "      <th>3329</th>\n",
              "      <td>San Antonio, TX</td>\n",
              "      <td>US</td>\n",
              "      <td>29.42410</td>\n",
              "      <td>-98.4936</td>\n",
              "      <td>2/14/20 11:23</td>\n",
              "      <td>1.0</td>\n",
              "    </tr>\n",
              "  </tbody>\n",
              "</table>\n",
              "<p>3330 rows × 6 columns</p>\n",
              "</div>"
            ],
            "text/plain": [
              "                    Province/State  Country/Region  ...           date  confirmed\n",
              "0                            Anhui  Mainland China  ...  1/21/20 22:00        NaN\n",
              "1                          Beijing  Mainland China  ...  1/21/20 22:00       10.0\n",
              "2                        Chongqing  Mainland China  ...  1/21/20 22:00        5.0\n",
              "3                           Fujian  Mainland China  ...  1/21/20 22:00        NaN\n",
              "4                            Gansu  Mainland China  ...  1/21/20 22:00        NaN\n",
              "...                            ...             ...  ...            ...        ...\n",
              "3325                           NaN         Belgium  ...  2/14/20 11:23        1.0\n",
              "3326                   Madison, WI              US  ...  2/14/20 11:23        1.0\n",
              "3327  Diamond Princess cruise ship          Others  ...  2/14/20 11:23      218.0\n",
              "3328          San Diego County, CA              US  ...  2/14/20 11:23        2.0\n",
              "3329               San Antonio, TX              US  ...  2/14/20 11:23        1.0\n",
              "\n",
              "[3330 rows x 6 columns]"
            ]
          },
          "metadata": {
            "tags": []
          },
          "execution_count": 15
        }
      ]
    },
    {
      "cell_type": "code",
      "metadata": {
        "id": "RY3_llqxDbKF"
      },
      "source": [
        "def covid_melt(df, value_name=None):\n",
        "  return df.melt(id_vars=['Province/State', 'Country/Region', 'Lat', 'Long'], var_name=\"date\", value_name=value_name)"
      ],
      "execution_count": null,
      "outputs": []
    },
    {
      "cell_type": "code",
      "metadata": {
        "id": "yRX5Y5dtDsb5"
      },
      "source": [
        "confirmed_melt = covid_melt(confirmed, \"confirmed\")\n",
        "deaths_melt = covid_melt(deaths, \"deaths\")\n",
        "recovered_melt = covid_melt(recovered, \"recovered\")"
      ],
      "execution_count": null,
      "outputs": []
    },
    {
      "cell_type": "code",
      "metadata": {
        "id": "_e8IvRNuDxCf"
      },
      "source": [
        "covid_data = confirmed_melt.merge(deaths_melt).merge(recovered_melt)"
      ],
      "execution_count": null,
      "outputs": []
    },
    {
      "cell_type": "code",
      "metadata": {
        "colab": {
          "base_uri": "https://localhost:8080/",
          "height": 108
        },
        "id": "iChObJ4yEJBv",
        "outputId": "bf71ef8c-e7e6-4f07-dc1a-1145e92bc2a9"
      },
      "source": [
        "covid_data.head(2)"
      ],
      "execution_count": null,
      "outputs": [
        {
          "output_type": "execute_result",
          "data": {
            "text/html": [
              "<div>\n",
              "<style scoped>\n",
              "    .dataframe tbody tr th:only-of-type {\n",
              "        vertical-align: middle;\n",
              "    }\n",
              "\n",
              "    .dataframe tbody tr th {\n",
              "        vertical-align: top;\n",
              "    }\n",
              "\n",
              "    .dataframe thead th {\n",
              "        text-align: right;\n",
              "    }\n",
              "</style>\n",
              "<table border=\"1\" class=\"dataframe\">\n",
              "  <thead>\n",
              "    <tr style=\"text-align: right;\">\n",
              "      <th></th>\n",
              "      <th>Province/State</th>\n",
              "      <th>Country/Region</th>\n",
              "      <th>Lat</th>\n",
              "      <th>Long</th>\n",
              "      <th>date</th>\n",
              "      <th>confirmed</th>\n",
              "      <th>deaths</th>\n",
              "      <th>recovered</th>\n",
              "    </tr>\n",
              "  </thead>\n",
              "  <tbody>\n",
              "    <tr>\n",
              "      <th>0</th>\n",
              "      <td>Anhui</td>\n",
              "      <td>Mainland China</td>\n",
              "      <td>31.82571</td>\n",
              "      <td>117.2264</td>\n",
              "      <td>1/21/20 22:00</td>\n",
              "      <td>NaN</td>\n",
              "      <td>NaN</td>\n",
              "      <td>NaN</td>\n",
              "    </tr>\n",
              "    <tr>\n",
              "      <th>1</th>\n",
              "      <td>Beijing</td>\n",
              "      <td>Mainland China</td>\n",
              "      <td>40.18238</td>\n",
              "      <td>116.4142</td>\n",
              "      <td>1/21/20 22:00</td>\n",
              "      <td>10.0</td>\n",
              "      <td>NaN</td>\n",
              "      <td>NaN</td>\n",
              "    </tr>\n",
              "  </tbody>\n",
              "</table>\n",
              "</div>"
            ],
            "text/plain": [
              "  Province/State  Country/Region       Lat  ...  confirmed deaths  recovered\n",
              "0          Anhui  Mainland China  31.82571  ...        NaN    NaN        NaN\n",
              "1        Beijing  Mainland China  40.18238  ...       10.0    NaN        NaN\n",
              "\n",
              "[2 rows x 8 columns]"
            ]
          },
          "metadata": {
            "tags": []
          },
          "execution_count": 29
        }
      ]
    },
    {
      "cell_type": "code",
      "metadata": {
        "colab": {
          "base_uri": "https://localhost:8080/"
        },
        "id": "LExH_-cDEo2X",
        "outputId": "d5e894e0-1d08-4fa0-8287-85d027c33b30"
      },
      "source": [
        "covid_data.info()"
      ],
      "execution_count": null,
      "outputs": [
        {
          "output_type": "stream",
          "text": [
            "<class 'pandas.core.frame.DataFrame'>\n",
            "Int64Index: 3330 entries, 0 to 3329\n",
            "Data columns (total 8 columns):\n",
            " #   Column          Non-Null Count  Dtype  \n",
            "---  ------          --------------  -----  \n",
            " 0   Province/State  2385 non-null   object \n",
            " 1   Country/Region  3330 non-null   object \n",
            " 2   Lat             3330 non-null   float64\n",
            " 3   Long            3330 non-null   float64\n",
            " 4   date            3330 non-null   object \n",
            " 5   confirmed       2706 non-null   float64\n",
            " 6   deaths          1184 non-null   float64\n",
            " 7   recovered       1508 non-null   float64\n",
            "dtypes: float64(5), object(3)\n",
            "memory usage: 234.1+ KB\n"
          ],
          "name": "stdout"
        }
      ]
    },
    {
      "cell_type": "markdown",
      "metadata": {
        "id": "2D8H7A9kE_Ks"
      },
      "source": [
        "## Date to DateTime Object"
      ]
    },
    {
      "cell_type": "code",
      "metadata": {
        "id": "LJYI_pVIE6AK"
      },
      "source": [
        "covid_data['date'] = pd.to_datetime(covid_data['date'])"
      ],
      "execution_count": null,
      "outputs": []
    },
    {
      "cell_type": "code",
      "metadata": {
        "colab": {
          "base_uri": "https://localhost:8080/",
          "height": 198
        },
        "id": "Lx9hh6u8FD9r",
        "outputId": "287f5035-35ef-4560-e6eb-dfa2abbdf232"
      },
      "source": [
        "covid_data.head()"
      ],
      "execution_count": null,
      "outputs": [
        {
          "output_type": "execute_result",
          "data": {
            "text/html": [
              "<div>\n",
              "<style scoped>\n",
              "    .dataframe tbody tr th:only-of-type {\n",
              "        vertical-align: middle;\n",
              "    }\n",
              "\n",
              "    .dataframe tbody tr th {\n",
              "        vertical-align: top;\n",
              "    }\n",
              "\n",
              "    .dataframe thead th {\n",
              "        text-align: right;\n",
              "    }\n",
              "</style>\n",
              "<table border=\"1\" class=\"dataframe\">\n",
              "  <thead>\n",
              "    <tr style=\"text-align: right;\">\n",
              "      <th></th>\n",
              "      <th>Province/State</th>\n",
              "      <th>Country/Region</th>\n",
              "      <th>Lat</th>\n",
              "      <th>Long</th>\n",
              "      <th>date</th>\n",
              "      <th>confirmed</th>\n",
              "      <th>deaths</th>\n",
              "      <th>recovered</th>\n",
              "    </tr>\n",
              "  </thead>\n",
              "  <tbody>\n",
              "    <tr>\n",
              "      <th>0</th>\n",
              "      <td>Anhui</td>\n",
              "      <td>Mainland China</td>\n",
              "      <td>31.82571</td>\n",
              "      <td>117.2264</td>\n",
              "      <td>2020-01-21 22:00:00</td>\n",
              "      <td>NaN</td>\n",
              "      <td>NaN</td>\n",
              "      <td>NaN</td>\n",
              "    </tr>\n",
              "    <tr>\n",
              "      <th>1</th>\n",
              "      <td>Beijing</td>\n",
              "      <td>Mainland China</td>\n",
              "      <td>40.18238</td>\n",
              "      <td>116.4142</td>\n",
              "      <td>2020-01-21 22:00:00</td>\n",
              "      <td>10.0</td>\n",
              "      <td>NaN</td>\n",
              "      <td>NaN</td>\n",
              "    </tr>\n",
              "    <tr>\n",
              "      <th>2</th>\n",
              "      <td>Chongqing</td>\n",
              "      <td>Mainland China</td>\n",
              "      <td>30.05718</td>\n",
              "      <td>107.8740</td>\n",
              "      <td>2020-01-21 22:00:00</td>\n",
              "      <td>5.0</td>\n",
              "      <td>NaN</td>\n",
              "      <td>NaN</td>\n",
              "    </tr>\n",
              "    <tr>\n",
              "      <th>3</th>\n",
              "      <td>Fujian</td>\n",
              "      <td>Mainland China</td>\n",
              "      <td>26.07783</td>\n",
              "      <td>117.9895</td>\n",
              "      <td>2020-01-21 22:00:00</td>\n",
              "      <td>NaN</td>\n",
              "      <td>NaN</td>\n",
              "      <td>NaN</td>\n",
              "    </tr>\n",
              "    <tr>\n",
              "      <th>4</th>\n",
              "      <td>Gansu</td>\n",
              "      <td>Mainland China</td>\n",
              "      <td>36.06110</td>\n",
              "      <td>103.8343</td>\n",
              "      <td>2020-01-21 22:00:00</td>\n",
              "      <td>NaN</td>\n",
              "      <td>NaN</td>\n",
              "      <td>NaN</td>\n",
              "    </tr>\n",
              "  </tbody>\n",
              "</table>\n",
              "</div>"
            ],
            "text/plain": [
              "  Province/State  Country/Region       Lat  ...  confirmed deaths  recovered\n",
              "0          Anhui  Mainland China  31.82571  ...        NaN    NaN        NaN\n",
              "1        Beijing  Mainland China  40.18238  ...       10.0    NaN        NaN\n",
              "2      Chongqing  Mainland China  30.05718  ...        5.0    NaN        NaN\n",
              "3         Fujian  Mainland China  26.07783  ...        NaN    NaN        NaN\n",
              "4          Gansu  Mainland China  36.06110  ...        NaN    NaN        NaN\n",
              "\n",
              "[5 rows x 8 columns]"
            ]
          },
          "metadata": {
            "tags": []
          },
          "execution_count": 34
        }
      ]
    },
    {
      "cell_type": "code",
      "metadata": {
        "id": "R_sXKtyQFMIn"
      },
      "source": [
        "covid_data.set_index('date', inplace=True)"
      ],
      "execution_count": null,
      "outputs": []
    },
    {
      "cell_type": "code",
      "metadata": {
        "colab": {
          "base_uri": "https://localhost:8080/",
          "height": 228
        },
        "id": "Oc6GuCndFUbe",
        "outputId": "68a56e2c-cbdc-4918-ee99-377b2f561607"
      },
      "source": [
        "covid_data.head()"
      ],
      "execution_count": null,
      "outputs": [
        {
          "output_type": "execute_result",
          "data": {
            "text/html": [
              "<div>\n",
              "<style scoped>\n",
              "    .dataframe tbody tr th:only-of-type {\n",
              "        vertical-align: middle;\n",
              "    }\n",
              "\n",
              "    .dataframe tbody tr th {\n",
              "        vertical-align: top;\n",
              "    }\n",
              "\n",
              "    .dataframe thead th {\n",
              "        text-align: right;\n",
              "    }\n",
              "</style>\n",
              "<table border=\"1\" class=\"dataframe\">\n",
              "  <thead>\n",
              "    <tr style=\"text-align: right;\">\n",
              "      <th></th>\n",
              "      <th>Province/State</th>\n",
              "      <th>Country/Region</th>\n",
              "      <th>Lat</th>\n",
              "      <th>Long</th>\n",
              "      <th>confirmed</th>\n",
              "      <th>deaths</th>\n",
              "      <th>recovered</th>\n",
              "    </tr>\n",
              "    <tr>\n",
              "      <th>date</th>\n",
              "      <th></th>\n",
              "      <th></th>\n",
              "      <th></th>\n",
              "      <th></th>\n",
              "      <th></th>\n",
              "      <th></th>\n",
              "      <th></th>\n",
              "    </tr>\n",
              "  </thead>\n",
              "  <tbody>\n",
              "    <tr>\n",
              "      <th>2020-01-21 22:00:00</th>\n",
              "      <td>Anhui</td>\n",
              "      <td>Mainland China</td>\n",
              "      <td>31.82571</td>\n",
              "      <td>117.2264</td>\n",
              "      <td>NaN</td>\n",
              "      <td>NaN</td>\n",
              "      <td>NaN</td>\n",
              "    </tr>\n",
              "    <tr>\n",
              "      <th>2020-01-21 22:00:00</th>\n",
              "      <td>Beijing</td>\n",
              "      <td>Mainland China</td>\n",
              "      <td>40.18238</td>\n",
              "      <td>116.4142</td>\n",
              "      <td>10.0</td>\n",
              "      <td>NaN</td>\n",
              "      <td>NaN</td>\n",
              "    </tr>\n",
              "    <tr>\n",
              "      <th>2020-01-21 22:00:00</th>\n",
              "      <td>Chongqing</td>\n",
              "      <td>Mainland China</td>\n",
              "      <td>30.05718</td>\n",
              "      <td>107.8740</td>\n",
              "      <td>5.0</td>\n",
              "      <td>NaN</td>\n",
              "      <td>NaN</td>\n",
              "    </tr>\n",
              "    <tr>\n",
              "      <th>2020-01-21 22:00:00</th>\n",
              "      <td>Fujian</td>\n",
              "      <td>Mainland China</td>\n",
              "      <td>26.07783</td>\n",
              "      <td>117.9895</td>\n",
              "      <td>NaN</td>\n",
              "      <td>NaN</td>\n",
              "      <td>NaN</td>\n",
              "    </tr>\n",
              "    <tr>\n",
              "      <th>2020-01-21 22:00:00</th>\n",
              "      <td>Gansu</td>\n",
              "      <td>Mainland China</td>\n",
              "      <td>36.06110</td>\n",
              "      <td>103.8343</td>\n",
              "      <td>NaN</td>\n",
              "      <td>NaN</td>\n",
              "      <td>NaN</td>\n",
              "    </tr>\n",
              "  </tbody>\n",
              "</table>\n",
              "</div>"
            ],
            "text/plain": [
              "                    Province/State  Country/Region  ...  deaths  recovered\n",
              "date                                                ...                   \n",
              "2020-01-21 22:00:00          Anhui  Mainland China  ...     NaN        NaN\n",
              "2020-01-21 22:00:00        Beijing  Mainland China  ...     NaN        NaN\n",
              "2020-01-21 22:00:00      Chongqing  Mainland China  ...     NaN        NaN\n",
              "2020-01-21 22:00:00         Fujian  Mainland China  ...     NaN        NaN\n",
              "2020-01-21 22:00:00          Gansu  Mainland China  ...     NaN        NaN\n",
              "\n",
              "[5 rows x 7 columns]"
            ]
          },
          "metadata": {
            "tags": []
          },
          "execution_count": 36
        }
      ]
    },
    {
      "cell_type": "code",
      "metadata": {
        "id": "nnZTY_9tFV3P"
      },
      "source": [
        "covid_data.columns = [c.lower().replace(\"/\",\"_\") for c in covid_data.columns]"
      ],
      "execution_count": null,
      "outputs": []
    },
    {
      "cell_type": "code",
      "metadata": {
        "colab": {
          "base_uri": "https://localhost:8080/",
          "height": 228
        },
        "id": "o6yb9vIMFips",
        "outputId": "927a908f-e618-4c5e-9c12-f071a18891a7"
      },
      "source": [
        "covid_data.head()"
      ],
      "execution_count": null,
      "outputs": [
        {
          "output_type": "execute_result",
          "data": {
            "text/html": [
              "<div>\n",
              "<style scoped>\n",
              "    .dataframe tbody tr th:only-of-type {\n",
              "        vertical-align: middle;\n",
              "    }\n",
              "\n",
              "    .dataframe tbody tr th {\n",
              "        vertical-align: top;\n",
              "    }\n",
              "\n",
              "    .dataframe thead th {\n",
              "        text-align: right;\n",
              "    }\n",
              "</style>\n",
              "<table border=\"1\" class=\"dataframe\">\n",
              "  <thead>\n",
              "    <tr style=\"text-align: right;\">\n",
              "      <th></th>\n",
              "      <th>province_state</th>\n",
              "      <th>country_region</th>\n",
              "      <th>lat</th>\n",
              "      <th>long</th>\n",
              "      <th>confirmed</th>\n",
              "      <th>deaths</th>\n",
              "      <th>recovered</th>\n",
              "    </tr>\n",
              "    <tr>\n",
              "      <th>date</th>\n",
              "      <th></th>\n",
              "      <th></th>\n",
              "      <th></th>\n",
              "      <th></th>\n",
              "      <th></th>\n",
              "      <th></th>\n",
              "      <th></th>\n",
              "    </tr>\n",
              "  </thead>\n",
              "  <tbody>\n",
              "    <tr>\n",
              "      <th>2020-01-21 22:00:00</th>\n",
              "      <td>Anhui</td>\n",
              "      <td>Mainland China</td>\n",
              "      <td>31.82571</td>\n",
              "      <td>117.2264</td>\n",
              "      <td>NaN</td>\n",
              "      <td>NaN</td>\n",
              "      <td>NaN</td>\n",
              "    </tr>\n",
              "    <tr>\n",
              "      <th>2020-01-21 22:00:00</th>\n",
              "      <td>Beijing</td>\n",
              "      <td>Mainland China</td>\n",
              "      <td>40.18238</td>\n",
              "      <td>116.4142</td>\n",
              "      <td>10.0</td>\n",
              "      <td>NaN</td>\n",
              "      <td>NaN</td>\n",
              "    </tr>\n",
              "    <tr>\n",
              "      <th>2020-01-21 22:00:00</th>\n",
              "      <td>Chongqing</td>\n",
              "      <td>Mainland China</td>\n",
              "      <td>30.05718</td>\n",
              "      <td>107.8740</td>\n",
              "      <td>5.0</td>\n",
              "      <td>NaN</td>\n",
              "      <td>NaN</td>\n",
              "    </tr>\n",
              "    <tr>\n",
              "      <th>2020-01-21 22:00:00</th>\n",
              "      <td>Fujian</td>\n",
              "      <td>Mainland China</td>\n",
              "      <td>26.07783</td>\n",
              "      <td>117.9895</td>\n",
              "      <td>NaN</td>\n",
              "      <td>NaN</td>\n",
              "      <td>NaN</td>\n",
              "    </tr>\n",
              "    <tr>\n",
              "      <th>2020-01-21 22:00:00</th>\n",
              "      <td>Gansu</td>\n",
              "      <td>Mainland China</td>\n",
              "      <td>36.06110</td>\n",
              "      <td>103.8343</td>\n",
              "      <td>NaN</td>\n",
              "      <td>NaN</td>\n",
              "      <td>NaN</td>\n",
              "    </tr>\n",
              "  </tbody>\n",
              "</table>\n",
              "</div>"
            ],
            "text/plain": [
              "                    province_state  country_region  ...  deaths  recovered\n",
              "date                                                ...                   \n",
              "2020-01-21 22:00:00          Anhui  Mainland China  ...     NaN        NaN\n",
              "2020-01-21 22:00:00        Beijing  Mainland China  ...     NaN        NaN\n",
              "2020-01-21 22:00:00      Chongqing  Mainland China  ...     NaN        NaN\n",
              "2020-01-21 22:00:00         Fujian  Mainland China  ...     NaN        NaN\n",
              "2020-01-21 22:00:00          Gansu  Mainland China  ...     NaN        NaN\n",
              "\n",
              "[5 rows x 7 columns]"
            ]
          },
          "metadata": {
            "tags": []
          },
          "execution_count": 44
        }
      ]
    },
    {
      "cell_type": "markdown",
      "metadata": {
        "id": "I-a_yR5KFy-I"
      },
      "source": [
        "## Filling NA values\n",
        "\n",
        "1. confirmed\n",
        "1. deaths\n",
        "1. recovered"
      ]
    },
    {
      "cell_type": "code",
      "metadata": {
        "id": "XNjxgJqGFwDe"
      },
      "source": [
        "fill_values = {\"confirmed\":0, \"recovered\":0, \"deaths\":0} # fill values dictionary; helps control which variables are filled"
      ],
      "execution_count": null,
      "outputs": []
    },
    {
      "cell_type": "markdown",
      "metadata": {
        "id": "ofuVUJNtGZO6"
      },
      "source": [
        "For the variables confirmed, recovered, and deaths we fill the NaN with zeros. For all other variables, we left the missing values as NaN."
      ]
    },
    {
      "cell_type": "code",
      "metadata": {
        "colab": {
          "base_uri": "https://localhost:8080/",
          "height": 437
        },
        "id": "FrJHAR2RGNs4",
        "outputId": "e55a1b88-1862-4513-9488-57fafadde707"
      },
      "source": [
        "covid_data.fillna(value=fill_values)"
      ],
      "execution_count": null,
      "outputs": [
        {
          "output_type": "execute_result",
          "data": {
            "text/html": [
              "<div>\n",
              "<style scoped>\n",
              "    .dataframe tbody tr th:only-of-type {\n",
              "        vertical-align: middle;\n",
              "    }\n",
              "\n",
              "    .dataframe tbody tr th {\n",
              "        vertical-align: top;\n",
              "    }\n",
              "\n",
              "    .dataframe thead th {\n",
              "        text-align: right;\n",
              "    }\n",
              "</style>\n",
              "<table border=\"1\" class=\"dataframe\">\n",
              "  <thead>\n",
              "    <tr style=\"text-align: right;\">\n",
              "      <th></th>\n",
              "      <th>province_state</th>\n",
              "      <th>country_region</th>\n",
              "      <th>lat</th>\n",
              "      <th>long</th>\n",
              "      <th>confirmed</th>\n",
              "      <th>deaths</th>\n",
              "      <th>recovered</th>\n",
              "    </tr>\n",
              "    <tr>\n",
              "      <th>date</th>\n",
              "      <th></th>\n",
              "      <th></th>\n",
              "      <th></th>\n",
              "      <th></th>\n",
              "      <th></th>\n",
              "      <th></th>\n",
              "      <th></th>\n",
              "    </tr>\n",
              "  </thead>\n",
              "  <tbody>\n",
              "    <tr>\n",
              "      <th>2020-01-21 22:00:00</th>\n",
              "      <td>Anhui</td>\n",
              "      <td>Mainland China</td>\n",
              "      <td>31.82571</td>\n",
              "      <td>117.2264</td>\n",
              "      <td>0.0</td>\n",
              "      <td>0.0</td>\n",
              "      <td>0.0</td>\n",
              "    </tr>\n",
              "    <tr>\n",
              "      <th>2020-01-21 22:00:00</th>\n",
              "      <td>Beijing</td>\n",
              "      <td>Mainland China</td>\n",
              "      <td>40.18238</td>\n",
              "      <td>116.4142</td>\n",
              "      <td>10.0</td>\n",
              "      <td>0.0</td>\n",
              "      <td>0.0</td>\n",
              "    </tr>\n",
              "    <tr>\n",
              "      <th>2020-01-21 22:00:00</th>\n",
              "      <td>Chongqing</td>\n",
              "      <td>Mainland China</td>\n",
              "      <td>30.05718</td>\n",
              "      <td>107.8740</td>\n",
              "      <td>5.0</td>\n",
              "      <td>0.0</td>\n",
              "      <td>0.0</td>\n",
              "    </tr>\n",
              "    <tr>\n",
              "      <th>2020-01-21 22:00:00</th>\n",
              "      <td>Fujian</td>\n",
              "      <td>Mainland China</td>\n",
              "      <td>26.07783</td>\n",
              "      <td>117.9895</td>\n",
              "      <td>0.0</td>\n",
              "      <td>0.0</td>\n",
              "      <td>0.0</td>\n",
              "    </tr>\n",
              "    <tr>\n",
              "      <th>2020-01-21 22:00:00</th>\n",
              "      <td>Gansu</td>\n",
              "      <td>Mainland China</td>\n",
              "      <td>36.06110</td>\n",
              "      <td>103.8343</td>\n",
              "      <td>0.0</td>\n",
              "      <td>0.0</td>\n",
              "      <td>0.0</td>\n",
              "    </tr>\n",
              "    <tr>\n",
              "      <th>...</th>\n",
              "      <td>...</td>\n",
              "      <td>...</td>\n",
              "      <td>...</td>\n",
              "      <td>...</td>\n",
              "      <td>...</td>\n",
              "      <td>...</td>\n",
              "      <td>...</td>\n",
              "    </tr>\n",
              "    <tr>\n",
              "      <th>2020-02-14 11:23:00</th>\n",
              "      <td>NaN</td>\n",
              "      <td>Belgium</td>\n",
              "      <td>50.50390</td>\n",
              "      <td>4.4699</td>\n",
              "      <td>1.0</td>\n",
              "      <td>0.0</td>\n",
              "      <td>0.0</td>\n",
              "    </tr>\n",
              "    <tr>\n",
              "      <th>2020-02-14 11:23:00</th>\n",
              "      <td>Madison, WI</td>\n",
              "      <td>US</td>\n",
              "      <td>43.07310</td>\n",
              "      <td>-89.4012</td>\n",
              "      <td>1.0</td>\n",
              "      <td>0.0</td>\n",
              "      <td>0.0</td>\n",
              "    </tr>\n",
              "    <tr>\n",
              "      <th>2020-02-14 11:23:00</th>\n",
              "      <td>Diamond Princess cruise ship</td>\n",
              "      <td>Others</td>\n",
              "      <td>35.44370</td>\n",
              "      <td>129.6380</td>\n",
              "      <td>218.0</td>\n",
              "      <td>0.0</td>\n",
              "      <td>0.0</td>\n",
              "    </tr>\n",
              "    <tr>\n",
              "      <th>2020-02-14 11:23:00</th>\n",
              "      <td>San Diego County, CA</td>\n",
              "      <td>US</td>\n",
              "      <td>32.71570</td>\n",
              "      <td>-117.1611</td>\n",
              "      <td>2.0</td>\n",
              "      <td>0.0</td>\n",
              "      <td>0.0</td>\n",
              "    </tr>\n",
              "    <tr>\n",
              "      <th>2020-02-14 11:23:00</th>\n",
              "      <td>San Antonio, TX</td>\n",
              "      <td>US</td>\n",
              "      <td>29.42410</td>\n",
              "      <td>-98.4936</td>\n",
              "      <td>1.0</td>\n",
              "      <td>0.0</td>\n",
              "      <td>0.0</td>\n",
              "    </tr>\n",
              "  </tbody>\n",
              "</table>\n",
              "<p>3330 rows × 7 columns</p>\n",
              "</div>"
            ],
            "text/plain": [
              "                                   province_state  ... recovered\n",
              "date                                               ...          \n",
              "2020-01-21 22:00:00                         Anhui  ...       0.0\n",
              "2020-01-21 22:00:00                       Beijing  ...       0.0\n",
              "2020-01-21 22:00:00                     Chongqing  ...       0.0\n",
              "2020-01-21 22:00:00                        Fujian  ...       0.0\n",
              "2020-01-21 22:00:00                         Gansu  ...       0.0\n",
              "...                                           ...  ...       ...\n",
              "2020-02-14 11:23:00                           NaN  ...       0.0\n",
              "2020-02-14 11:23:00                   Madison, WI  ...       0.0\n",
              "2020-02-14 11:23:00  Diamond Princess cruise ship  ...       0.0\n",
              "2020-02-14 11:23:00          San Diego County, CA  ...       0.0\n",
              "2020-02-14 11:23:00               San Antonio, TX  ...       0.0\n",
              "\n",
              "[3330 rows x 7 columns]"
            ]
          },
          "metadata": {
            "tags": []
          },
          "execution_count": 46
        }
      ]
    },
    {
      "cell_type": "code",
      "metadata": {
        "colab": {
          "base_uri": "https://localhost:8080/",
          "height": 677
        },
        "id": "FDoShaICGRfp",
        "outputId": "6bbe3ae6-d6f7-4848-cb19-d51fc7fae381"
      },
      "source": [
        "covid_data.query(\"province_state == 'Beijing'\")[['recovered','deaths','confirmed']].plot(kind=\"line\", subplots=True, figsize=(12,12));"
      ],
      "execution_count": null,
      "outputs": [
        {
          "output_type": "display_data",
          "data": {
            "image/png": "[encoded data removed]",
            "text/plain": [
              "<Figure size 864x864 with 3 Axes>"
            ]
          },
          "metadata": {
            "tags": [],
            "needs_background": "light"
          }
        }
      ]
    },
    {
      "cell_type": "markdown",
      "metadata": {
        "id": "f25roiwNH__E"
      },
      "source": [
        "# Financial Data"
      ]
    },
    {
      "cell_type": "code",
      "metadata": {
        "id": "EbemGeU1Gvn6"
      },
      "source": [
        "import pandas as pd\n",
        "import numpy as np\n",
        "import seaborn as sns\n",
        "import matplotlib.pyplot as plt\n",
        "%matplotlib inline"
      ],
      "execution_count": 1,
      "outputs": []
    },
    {
      "cell_type": "code",
      "metadata": {
        "id": "tZZ7ALimH-tp",
        "colab": {
          "base_uri": "https://localhost:8080/"
        },
        "outputId": "eba13e26-0fdd-4b4f-b6ab-9596ab57621e"
      },
      "source": [
        "!pip install yfinance"
      ],
      "execution_count": 2,
      "outputs": [
        {
          "output_type": "stream",
          "text": [
            "Collecting yfinance\n",
            "  Downloading https://files.pythonhosted.org/packages/7a/e8/b9d7104d3a4bf39924799067592d9e59119fcfc900a425a12e80a3123ec8/yfinance-0.1.55.tar.gz\n",
            "Requirement already satisfied: pandas>=0.24 in /usr/local/lib/python3.7/dist-packages (from yfinance) (1.1.5)\n",
            "Requirement already satisfied: numpy>=1.15 in /usr/local/lib/python3.7/dist-packages (from yfinance) (1.19.5)\n",
            "Requirement already satisfied: requests>=2.20 in /usr/local/lib/python3.7/dist-packages (from yfinance) (2.23.0)\n",
            "Requirement already satisfied: multitasking>=0.0.7 in /usr/local/lib/python3.7/dist-packages (from yfinance) (0.0.9)\n",
            "Collecting lxml>=4.5.1\n",
            "\u001b[?25l  Downloading https://files.pythonhosted.org/packages/d2/88/b25778f17e5320c1c58f8c5060fb5b037288e162bd7554c30799e9ea90db/lxml-4.6.2-cp37-cp37m-manylinux1_x86_64.whl (5.5MB)\n",
            "\u001b[K     |████████████████████████████████| 5.5MB 7.4MB/s \n",
            "\u001b[?25hRequirement already satisfied: python-dateutil>=2.7.3 in /usr/local/lib/python3.7/dist-packages (from pandas>=0.24->yfinance) (2.8.1)\n",
            "Requirement already satisfied: pytz>=2017.2 in /usr/local/lib/python3.7/dist-packages (from pandas>=0.24->yfinance) (2018.9)\n",
            "Requirement already satisfied: idna<3,>=2.5 in /usr/local/lib/python3.7/dist-packages (from requests>=2.20->yfinance) (2.10)\n",
            "Requirement already satisfied: chardet<4,>=3.0.2 in /usr/local/lib/python3.7/dist-packages (from requests>=2.20->yfinance) (3.0.4)\n",
            "Requirement already satisfied: certifi>=2017.4.17 in /usr/local/lib/python3.7/dist-packages (from requests>=2.20->yfinance) (2020.12.5)\n",
            "Requirement already satisfied: urllib3!=1.25.0,!=1.25.1,<1.26,>=1.21.1 in /usr/local/lib/python3.7/dist-packages (from requests>=2.20->yfinance) (1.24.3)\n",
            "Requirement already satisfied: six>=1.5 in /usr/local/lib/python3.7/dist-packages (from python-dateutil>=2.7.3->pandas>=0.24->yfinance) (1.15.0)\n",
            "Building wheels for collected packages: yfinance\n",
            "  Building wheel for yfinance (setup.py) ... \u001b[?25l\u001b[?25hdone\n",
            "  Created wheel for yfinance: filename=yfinance-0.1.55-py2.py3-none-any.whl size=22616 sha256=0780bfb8a2e0b432a968f8305e0f122bc49da57a1de9fc0bc6ba8e205a4c2d26\n",
            "  Stored in directory: /root/.cache/pip/wheels/04/98/cc/2702a4242d60bdc14f48b4557c427ded1fe92aedf257d4565c\n",
            "Successfully built yfinance\n",
            "Installing collected packages: lxml, yfinance\n",
            "  Found existing installation: lxml 4.2.6\n",
            "    Uninstalling lxml-4.2.6:\n",
            "      Successfully uninstalled lxml-4.2.6\n",
            "Successfully installed lxml-4.6.2 yfinance-0.1.55\n"
          ],
          "name": "stdout"
        }
      ]
    },
    {
      "cell_type": "code",
      "metadata": {
        "id": "VALFnhhMTSdq"
      },
      "source": [
        "import yfinance as yf"
      ],
      "execution_count": 3,
      "outputs": []
    },
    {
      "cell_type": "markdown",
      "metadata": {
        "id": "5wpE9gjlT3mv"
      },
      "source": [
        "## Basic Example"
      ]
    },
    {
      "cell_type": "code",
      "metadata": {
        "id": "lGvWYEKUTS9O"
      },
      "source": [
        "msft = yf.Ticker(\"MSFT\")"
      ],
      "execution_count": 4,
      "outputs": []
    },
    {
      "cell_type": "code",
      "metadata": {
        "colab": {
          "base_uri": "https://localhost:8080/"
        },
        "id": "btz7XwVrUD_3",
        "outputId": "4e7730bd-d9f8-4ea8-e39a-3b8799a044e6"
      },
      "source": [
        "msft.info"
      ],
      "execution_count": 5,
      "outputs": [
        {
          "output_type": "execute_result",
          "data": {
            "text/plain": [
              "{'52WeekChange': 0.521708,\n",
              " 'SandP52WeekChange': 0.4136821,\n",
              " 'address1': 'One Microsoft Way',\n",
              " 'algorithm': None,\n",
              " 'annualHoldingsTurnover': None,\n",
              " 'annualReportExpenseRatio': None,\n",
              " 'ask': 234.83,\n",
              " 'askSize': 1400,\n",
              " 'averageDailyVolume10Day': 33823728,\n",
              " 'averageVolume': 29763468,\n",
              " 'averageVolume10days': 33823728,\n",
              " 'beta': 0.812567,\n",
              " 'beta3Year': None,\n",
              " 'bid': 234.87,\n",
              " 'bidSize': 1000,\n",
              " 'bookValue': 17.259,\n",
              " 'category': None,\n",
              " 'circulatingSupply': None,\n",
              " 'city': 'Redmond',\n",
              " 'companyOfficers': [],\n",
              " 'country': 'United States',\n",
              " 'currency': 'USD',\n",
              " 'dateShortInterest': 1614297600,\n",
              " 'dayHigh': 236.99,\n",
              " 'dayLow': 233.82,\n",
              " 'dividendRate': 2.24,\n",
              " 'dividendYield': 0.0095999995,\n",
              " 'earningsQuarterlyGrowth': 0.327,\n",
              " 'enterpriseToEbitda': 23.91,\n",
              " 'enterpriseToRevenue': 11.182,\n",
              " 'enterpriseValue': 1714012160000,\n",
              " 'exDividendDate': 1613520000,\n",
              " 'exchange': 'NMS',\n",
              " 'exchangeTimezoneName': 'America/New_York',\n",
              " 'exchangeTimezoneShortName': 'EST',\n",
              " 'expireDate': None,\n",
              " 'fiftyDayAverage': 235.3283,\n",
              " 'fiftyTwoWeekHigh': 246.13,\n",
              " 'fiftyTwoWeekLow': 132.52,\n",
              " 'fiveYearAverageReturn': None,\n",
              " 'fiveYearAvgDividendYield': 1.68,\n",
              " 'floatShares': 7431118929,\n",
              " 'forwardEps': 8.09,\n",
              " 'forwardPE': 28.988874,\n",
              " 'fromCurrency': None,\n",
              " 'fullTimeEmployees': 163000,\n",
              " 'fundFamily': None,\n",
              " 'fundInceptionDate': None,\n",
              " 'gmtOffSetMilliseconds': '-18000000',\n",
              " 'heldPercentInsiders': 0.00059,\n",
              " 'heldPercentInstitutions': 0.71844,\n",
              " 'impliedSharesOutstanding': None,\n",
              " 'industry': 'Software—Infrastructure',\n",
              " 'isEsgPopulated': False,\n",
              " 'lastCapGain': None,\n",
              " 'lastDividendDate': 1613520000,\n",
              " 'lastDividendValue': 0.56,\n",
              " 'lastFiscalYearEnd': 1593475200,\n",
              " 'lastMarket': None,\n",
              " 'lastSplitDate': 1045526400,\n",
              " 'lastSplitFactor': '2:1',\n",
              " 'legalType': None,\n",
              " 'logo_url': 'https://logo.clearbit.com/microsoft.com',\n",
              " 'longBusinessSummary': 'Microsoft Corporation develops, licenses, and supports software, services, devices, and solutions worldwide. Its Productivity and Business Processes segment offers Office, Exchange, SharePoint, Microsoft Teams, Office 365 Security and Compliance, and Skype for Business, as well as related Client Access Licenses (CAL); Skype, Outlook.com, OneDrive, and LinkedIn; and Dynamics 365, a set of cloud-based and on-premises business solutions for small and medium businesses, large organizations, and divisions of enterprises. Its Intelligent Cloud segment licenses SQL and Windows Servers, Visual Studio, System Center, and related CALs; GitHub that provides a collaboration platform and code hosting service for developers; and Azure, a cloud platform. It also offers support services and Microsoft consulting services to assist customers in developing, deploying, and managing Microsoft server and desktop solutions; and training and certification to developers and IT professionals on various Microsoft products. Its More Personal Computing segment provides Windows original equipment manufacturer (OEM) licensing and other non-volume licensing of the Windows operating system; Windows Commercial, such as volume licensing of the Windows operating system, Windows cloud services, and other Windows commercial offerings; patent licensing; Windows Internet of Things; and MSN advertising. It also offers Surface, PC accessories, PCs, tablets, gaming and entertainment consoles, and other devices; Gaming, including Xbox hardware, and Xbox content and services; video games and third-party video game royalties; and Search, including Bing and Microsoft advertising. It sells its products through OEMs, distributors, and resellers; and directly through digital marketplaces, online stores, and retail stores. It has a strategic collaboration with DXC Technology. The company was founded in 1975 and is headquartered in Redmond, Washington.',\n",
              " 'longName': 'Microsoft Corporation',\n",
              " 'market': 'us_market',\n",
              " 'marketCap': 1768801435648,\n",
              " 'maxAge': 1,\n",
              " 'maxSupply': None,\n",
              " 'messageBoardId': 'finmb_21835',\n",
              " 'morningStarOverallRating': None,\n",
              " 'morningStarRiskRating': None,\n",
              " 'mostRecentQuarter': 1609372800,\n",
              " 'navPrice': None,\n",
              " 'netIncomeToCommon': 51309998080,\n",
              " 'nextFiscalYearEnd': 1656547200,\n",
              " 'open': 237,\n",
              " 'openInterest': None,\n",
              " 'payoutRatio': 0.31149998,\n",
              " 'pegRatio': 1.82,\n",
              " 'phone': '425-882-8080',\n",
              " 'previousClose': 233.78,\n",
              " 'priceHint': 2,\n",
              " 'priceToBook': 13.588272,\n",
              " 'priceToSalesTrailing12Months': 11.539374,\n",
              " 'profitMargins': 0.33473998,\n",
              " 'quoteType': 'EQUITY',\n",
              " 'regularMarketDayHigh': 236.99,\n",
              " 'regularMarketDayLow': 233.82,\n",
              " 'regularMarketOpen': 237,\n",
              " 'regularMarketPreviousClose': 233.78,\n",
              " 'regularMarketPrice': 237,\n",
              " 'regularMarketVolume': 16166857,\n",
              " 'revenueQuarterlyGrowth': None,\n",
              " 'sector': 'Technology',\n",
              " 'sharesOutstanding': 7560500224,\n",
              " 'sharesPercentSharesOut': 0.0055,\n",
              " 'sharesShort': 41632106,\n",
              " 'sharesShortPreviousMonthDate': 1611878400,\n",
              " 'sharesShortPriorMonth': 44533174,\n",
              " 'shortName': 'Microsoft Corporation',\n",
              " 'shortPercentOfFloat': 0.0055,\n",
              " 'shortRatio': 1.36,\n",
              " 'startDate': None,\n",
              " 'state': 'WA',\n",
              " 'strikePrice': None,\n",
              " 'symbol': 'MSFT',\n",
              " 'threeYearAverageReturn': None,\n",
              " 'toCurrency': None,\n",
              " 'totalAssets': None,\n",
              " 'tradeable': False,\n",
              " 'trailingAnnualDividendRate': 2.14,\n",
              " 'trailingAnnualDividendYield': 0.009153906,\n",
              " 'trailingEps': 6.707,\n",
              " 'trailingPE': 34.966454,\n",
              " 'twoHundredDayAverage': 219.67287,\n",
              " 'volume': 16166857,\n",
              " 'volume24Hr': None,\n",
              " 'volumeAllCurrencies': None,\n",
              " 'website': 'http://www.microsoft.com',\n",
              " 'yield': None,\n",
              " 'ytdReturn': None,\n",
              " 'zip': '98052-6399'}"
            ]
          },
          "metadata": {
            "tags": []
          },
          "execution_count": 5
        }
      ]
    },
    {
      "cell_type": "code",
      "metadata": {
        "id": "Xs00nd1xUFgC"
      },
      "source": [
        "hist = msft.history(period=\"max\")"
      ],
      "execution_count": 6,
      "outputs": []
    },
    {
      "cell_type": "code",
      "metadata": {
        "colab": {
          "base_uri": "https://localhost:8080/",
          "height": 437
        },
        "id": "e2P3H0bLUVto",
        "outputId": "7613de43-9fab-4363-bb5d-387a977337ba"
      },
      "source": [
        "hist"
      ],
      "execution_count": 7,
      "outputs": [
        {
          "output_type": "execute_result",
          "data": {
            "text/html": [
              "<div>\n",
              "<style scoped>\n",
              "    .dataframe tbody tr th:only-of-type {\n",
              "        vertical-align: middle;\n",
              "    }\n",
              "\n",
              "    .dataframe tbody tr th {\n",
              "        vertical-align: top;\n",
              "    }\n",
              "\n",
              "    .dataframe thead th {\n",
              "        text-align: right;\n",
              "    }\n",
              "</style>\n",
              "<table border=\"1\" class=\"dataframe\">\n",
              "  <thead>\n",
              "    <tr style=\"text-align: right;\">\n",
              "      <th></th>\n",
              "      <th>Open</th>\n",
              "      <th>High</th>\n",
              "      <th>Low</th>\n",
              "      <th>Close</th>\n",
              "      <th>Volume</th>\n",
              "      <th>Dividends</th>\n",
              "      <th>Stock Splits</th>\n",
              "    </tr>\n",
              "    <tr>\n",
              "      <th>Date</th>\n",
              "      <th></th>\n",
              "      <th></th>\n",
              "      <th></th>\n",
              "      <th></th>\n",
              "      <th></th>\n",
              "      <th></th>\n",
              "      <th></th>\n",
              "    </tr>\n",
              "  </thead>\n",
              "  <tbody>\n",
              "    <tr>\n",
              "      <th>1986-03-13</th>\n",
              "      <td>0.056238</td>\n",
              "      <td>0.064508</td>\n",
              "      <td>0.056238</td>\n",
              "      <td>0.061751</td>\n",
              "      <td>1031788800</td>\n",
              "      <td>0.0</td>\n",
              "      <td>0.0</td>\n",
              "    </tr>\n",
              "    <tr>\n",
              "      <th>1986-03-14</th>\n",
              "      <td>0.061751</td>\n",
              "      <td>0.065059</td>\n",
              "      <td>0.061751</td>\n",
              "      <td>0.063956</td>\n",
              "      <td>308160000</td>\n",
              "      <td>0.0</td>\n",
              "      <td>0.0</td>\n",
              "    </tr>\n",
              "    <tr>\n",
              "      <th>1986-03-17</th>\n",
              "      <td>0.063956</td>\n",
              "      <td>0.065610</td>\n",
              "      <td>0.063956</td>\n",
              "      <td>0.065059</td>\n",
              "      <td>133171200</td>\n",
              "      <td>0.0</td>\n",
              "      <td>0.0</td>\n",
              "    </tr>\n",
              "    <tr>\n",
              "      <th>1986-03-18</th>\n",
              "      <td>0.065059</td>\n",
              "      <td>0.065610</td>\n",
              "      <td>0.062853</td>\n",
              "      <td>0.063405</td>\n",
              "      <td>67766400</td>\n",
              "      <td>0.0</td>\n",
              "      <td>0.0</td>\n",
              "    </tr>\n",
              "    <tr>\n",
              "      <th>1986-03-19</th>\n",
              "      <td>0.063405</td>\n",
              "      <td>0.063956</td>\n",
              "      <td>0.061751</td>\n",
              "      <td>0.062302</td>\n",
              "      <td>47894400</td>\n",
              "      <td>0.0</td>\n",
              "      <td>0.0</td>\n",
              "    </tr>\n",
              "    <tr>\n",
              "      <th>...</th>\n",
              "      <td>...</td>\n",
              "      <td>...</td>\n",
              "      <td>...</td>\n",
              "      <td>...</td>\n",
              "      <td>...</td>\n",
              "      <td>...</td>\n",
              "      <td>...</td>\n",
              "    </tr>\n",
              "    <tr>\n",
              "      <th>2021-03-04</th>\n",
              "      <td>226.740005</td>\n",
              "      <td>232.490005</td>\n",
              "      <td>224.259995</td>\n",
              "      <td>226.729996</td>\n",
              "      <td>44584200</td>\n",
              "      <td>0.0</td>\n",
              "      <td>0.0</td>\n",
              "    </tr>\n",
              "    <tr>\n",
              "      <th>2021-03-05</th>\n",
              "      <td>229.520004</td>\n",
              "      <td>233.270004</td>\n",
              "      <td>226.460007</td>\n",
              "      <td>231.600006</td>\n",
              "      <td>41842100</td>\n",
              "      <td>0.0</td>\n",
              "      <td>0.0</td>\n",
              "    </tr>\n",
              "    <tr>\n",
              "      <th>2021-03-08</th>\n",
              "      <td>231.369995</td>\n",
              "      <td>233.369995</td>\n",
              "      <td>227.130005</td>\n",
              "      <td>227.389999</td>\n",
              "      <td>35245900</td>\n",
              "      <td>0.0</td>\n",
              "      <td>0.0</td>\n",
              "    </tr>\n",
              "    <tr>\n",
              "      <th>2021-03-09</th>\n",
              "      <td>232.880005</td>\n",
              "      <td>235.380005</td>\n",
              "      <td>231.669998</td>\n",
              "      <td>233.779999</td>\n",
              "      <td>33034000</td>\n",
              "      <td>0.0</td>\n",
              "      <td>0.0</td>\n",
              "    </tr>\n",
              "    <tr>\n",
              "      <th>2021-03-10</th>\n",
              "      <td>237.000000</td>\n",
              "      <td>236.990005</td>\n",
              "      <td>233.820007</td>\n",
              "      <td>234.220001</td>\n",
              "      <td>16257408</td>\n",
              "      <td>0.0</td>\n",
              "      <td>0.0</td>\n",
              "    </tr>\n",
              "  </tbody>\n",
              "</table>\n",
              "<p>8820 rows × 7 columns</p>\n",
              "</div>"
            ],
            "text/plain": [
              "                  Open        High  ...  Dividends  Stock Splits\n",
              "Date                                ...                         \n",
              "1986-03-13    0.056238    0.064508  ...        0.0           0.0\n",
              "1986-03-14    0.061751    0.065059  ...        0.0           0.0\n",
              "1986-03-17    0.063956    0.065610  ...        0.0           0.0\n",
              "1986-03-18    0.065059    0.065610  ...        0.0           0.0\n",
              "1986-03-19    0.063405    0.063956  ...        0.0           0.0\n",
              "...                ...         ...  ...        ...           ...\n",
              "2021-03-04  226.740005  232.490005  ...        0.0           0.0\n",
              "2021-03-05  229.520004  233.270004  ...        0.0           0.0\n",
              "2021-03-08  231.369995  233.369995  ...        0.0           0.0\n",
              "2021-03-09  232.880005  235.380005  ...        0.0           0.0\n",
              "2021-03-10  237.000000  236.990005  ...        0.0           0.0\n",
              "\n",
              "[8820 rows x 7 columns]"
            ]
          },
          "metadata": {
            "tags": []
          },
          "execution_count": 7
        }
      ]
    },
    {
      "cell_type": "code",
      "metadata": {
        "colab": {
          "base_uri": "https://localhost:8080/",
          "height": 437
        },
        "id": "DyMdHub_UWO3",
        "outputId": "53384a2a-9758-47ed-90e2-70d22af4e118"
      },
      "source": [
        "msft.actions # dividends, splits"
      ],
      "execution_count": 9,
      "outputs": [
        {
          "output_type": "execute_result",
          "data": {
            "text/html": [
              "<div>\n",
              "<style scoped>\n",
              "    .dataframe tbody tr th:only-of-type {\n",
              "        vertical-align: middle;\n",
              "    }\n",
              "\n",
              "    .dataframe tbody tr th {\n",
              "        vertical-align: top;\n",
              "    }\n",
              "\n",
              "    .dataframe thead th {\n",
              "        text-align: right;\n",
              "    }\n",
              "</style>\n",
              "<table border=\"1\" class=\"dataframe\">\n",
              "  <thead>\n",
              "    <tr style=\"text-align: right;\">\n",
              "      <th></th>\n",
              "      <th>Dividends</th>\n",
              "      <th>Stock Splits</th>\n",
              "    </tr>\n",
              "    <tr>\n",
              "      <th>Date</th>\n",
              "      <th></th>\n",
              "      <th></th>\n",
              "    </tr>\n",
              "  </thead>\n",
              "  <tbody>\n",
              "    <tr>\n",
              "      <th>1987-09-21</th>\n",
              "      <td>0.00</td>\n",
              "      <td>2.0</td>\n",
              "    </tr>\n",
              "    <tr>\n",
              "      <th>1990-04-16</th>\n",
              "      <td>0.00</td>\n",
              "      <td>2.0</td>\n",
              "    </tr>\n",
              "    <tr>\n",
              "      <th>1991-06-27</th>\n",
              "      <td>0.00</td>\n",
              "      <td>1.5</td>\n",
              "    </tr>\n",
              "    <tr>\n",
              "      <th>1992-06-15</th>\n",
              "      <td>0.00</td>\n",
              "      <td>1.5</td>\n",
              "    </tr>\n",
              "    <tr>\n",
              "      <th>1994-05-23</th>\n",
              "      <td>0.00</td>\n",
              "      <td>2.0</td>\n",
              "    </tr>\n",
              "    <tr>\n",
              "      <th>...</th>\n",
              "      <td>...</td>\n",
              "      <td>...</td>\n",
              "    </tr>\n",
              "    <tr>\n",
              "      <th>2020-02-19</th>\n",
              "      <td>0.51</td>\n",
              "      <td>0.0</td>\n",
              "    </tr>\n",
              "    <tr>\n",
              "      <th>2020-05-20</th>\n",
              "      <td>0.51</td>\n",
              "      <td>0.0</td>\n",
              "    </tr>\n",
              "    <tr>\n",
              "      <th>2020-08-19</th>\n",
              "      <td>0.51</td>\n",
              "      <td>0.0</td>\n",
              "    </tr>\n",
              "    <tr>\n",
              "      <th>2020-11-18</th>\n",
              "      <td>0.56</td>\n",
              "      <td>0.0</td>\n",
              "    </tr>\n",
              "    <tr>\n",
              "      <th>2021-02-17</th>\n",
              "      <td>0.56</td>\n",
              "      <td>0.0</td>\n",
              "    </tr>\n",
              "  </tbody>\n",
              "</table>\n",
              "<p>78 rows × 2 columns</p>\n",
              "</div>"
            ],
            "text/plain": [
              "            Dividends  Stock Splits\n",
              "Date                               \n",
              "1987-09-21       0.00           2.0\n",
              "1990-04-16       0.00           2.0\n",
              "1991-06-27       0.00           1.5\n",
              "1992-06-15       0.00           1.5\n",
              "1994-05-23       0.00           2.0\n",
              "...               ...           ...\n",
              "2020-02-19       0.51           0.0\n",
              "2020-05-20       0.51           0.0\n",
              "2020-08-19       0.51           0.0\n",
              "2020-11-18       0.56           0.0\n",
              "2021-02-17       0.56           0.0\n",
              "\n",
              "[78 rows x 2 columns]"
            ]
          },
          "metadata": {
            "tags": []
          },
          "execution_count": 9
        }
      ]
    },
    {
      "cell_type": "code",
      "metadata": {
        "colab": {
          "base_uri": "https://localhost:8080/"
        },
        "id": "ZLxWqdSrUjNZ",
        "outputId": "b024543c-387c-404a-d739-c73e738a8084"
      },
      "source": [
        "msft.dividends"
      ],
      "execution_count": 10,
      "outputs": [
        {
          "output_type": "execute_result",
          "data": {
            "text/plain": [
              "Date\n",
              "2003-02-19    0.08\n",
              "2003-10-15    0.16\n",
              "2004-08-23    0.08\n",
              "2004-11-15    3.08\n",
              "2005-02-15    0.08\n",
              "              ... \n",
              "2020-02-19    0.51\n",
              "2020-05-20    0.51\n",
              "2020-08-19    0.51\n",
              "2020-11-18    0.56\n",
              "2021-02-17    0.56\n",
              "Name: Dividends, Length: 69, dtype: float64"
            ]
          },
          "metadata": {
            "tags": []
          },
          "execution_count": 10
        }
      ]
    },
    {
      "cell_type": "code",
      "metadata": {
        "colab": {
          "base_uri": "https://localhost:8080/"
        },
        "id": "_gJMGifHUtKk",
        "outputId": "836e83e8-2509-4ffa-98e8-5ea66438c578"
      },
      "source": [
        "msft.splits"
      ],
      "execution_count": 11,
      "outputs": [
        {
          "output_type": "execute_result",
          "data": {
            "text/plain": [
              "Date\n",
              "1987-09-21    2.0\n",
              "1990-04-16    2.0\n",
              "1991-06-27    1.5\n",
              "1992-06-15    1.5\n",
              "1994-05-23    2.0\n",
              "1996-12-09    2.0\n",
              "1998-02-23    2.0\n",
              "1999-03-29    2.0\n",
              "2003-02-18    2.0\n",
              "Name: Stock Splits, dtype: float64"
            ]
          },
          "metadata": {
            "tags": []
          },
          "execution_count": 11
        }
      ]
    },
    {
      "cell_type": "code",
      "metadata": {
        "colab": {
          "base_uri": "https://localhost:8080/",
          "height": 168
        },
        "id": "swQox5TmUvdL",
        "outputId": "a1c48e0a-e1fa-4206-b853-ef0daed6c763"
      },
      "source": [
        "msft.major_holders"
      ],
      "execution_count": 14,
      "outputs": [
        {
          "output_type": "execute_result",
          "data": {
            "text/html": [
              "<div>\n",
              "<style scoped>\n",
              "    .dataframe tbody tr th:only-of-type {\n",
              "        vertical-align: middle;\n",
              "    }\n",
              "\n",
              "    .dataframe tbody tr th {\n",
              "        vertical-align: top;\n",
              "    }\n",
              "\n",
              "    .dataframe thead th {\n",
              "        text-align: right;\n",
              "    }\n",
              "</style>\n",
              "<table border=\"1\" class=\"dataframe\">\n",
              "  <thead>\n",
              "    <tr style=\"text-align: right;\">\n",
              "      <th></th>\n",
              "      <th>0</th>\n",
              "      <th>1</th>\n",
              "    </tr>\n",
              "  </thead>\n",
              "  <tbody>\n",
              "    <tr>\n",
              "      <th>0</th>\n",
              "      <td>0.06%</td>\n",
              "      <td>% of Shares Held by All Insider</td>\n",
              "    </tr>\n",
              "    <tr>\n",
              "      <th>1</th>\n",
              "      <td>71.84%</td>\n",
              "      <td>% of Shares Held by Institutions</td>\n",
              "    </tr>\n",
              "    <tr>\n",
              "      <th>2</th>\n",
              "      <td>71.89%</td>\n",
              "      <td>% of Float Held by Institutions</td>\n",
              "    </tr>\n",
              "    <tr>\n",
              "      <th>3</th>\n",
              "      <td>4849</td>\n",
              "      <td>Number of Institutions Holding Shares</td>\n",
              "    </tr>\n",
              "  </tbody>\n",
              "</table>\n",
              "</div>"
            ],
            "text/plain": [
              "        0                                      1\n",
              "0   0.06%        % of Shares Held by All Insider\n",
              "1  71.84%       % of Shares Held by Institutions\n",
              "2  71.89%        % of Float Held by Institutions\n",
              "3    4849  Number of Institutions Holding Shares"
            ]
          },
          "metadata": {
            "tags": []
          },
          "execution_count": 14
        }
      ]
    },
    {
      "cell_type": "code",
      "metadata": {
        "colab": {
          "base_uri": "https://localhost:8080/",
          "height": 348
        },
        "id": "FEM9iANHUxik",
        "outputId": "830d787e-d533-4184-8cc7-52ea0085ab30"
      },
      "source": [
        "msft.institutional_holders"
      ],
      "execution_count": 15,
      "outputs": [
        {
          "output_type": "execute_result",
          "data": {
            "text/html": [
              "<div>\n",
              "<style scoped>\n",
              "    .dataframe tbody tr th:only-of-type {\n",
              "        vertical-align: middle;\n",
              "    }\n",
              "\n",
              "    .dataframe tbody tr th {\n",
              "        vertical-align: top;\n",
              "    }\n",
              "\n",
              "    .dataframe thead th {\n",
              "        text-align: right;\n",
              "    }\n",
              "</style>\n",
              "<table border=\"1\" class=\"dataframe\">\n",
              "  <thead>\n",
              "    <tr style=\"text-align: right;\">\n",
              "      <th></th>\n",
              "      <th>Holder</th>\n",
              "      <th>Shares</th>\n",
              "      <th>Date Reported</th>\n",
              "      <th>% Out</th>\n",
              "      <th>Value</th>\n",
              "    </tr>\n",
              "  </thead>\n",
              "  <tbody>\n",
              "    <tr>\n",
              "      <th>0</th>\n",
              "      <td>Vanguard Group, Inc. (The)</td>\n",
              "      <td>614100233</td>\n",
              "      <td>2020-12-30</td>\n",
              "      <td>0.0814</td>\n",
              "      <td>136588173823</td>\n",
              "    </tr>\n",
              "    <tr>\n",
              "      <th>1</th>\n",
              "      <td>Blackrock Inc.</td>\n",
              "      <td>515509179</td>\n",
              "      <td>2020-12-30</td>\n",
              "      <td>0.0683</td>\n",
              "      <td>114659551593</td>\n",
              "    </tr>\n",
              "    <tr>\n",
              "      <th>2</th>\n",
              "      <td>State Street Corporation</td>\n",
              "      <td>299126371</td>\n",
              "      <td>2020-12-30</td>\n",
              "      <td>0.0397</td>\n",
              "      <td>66531687437</td>\n",
              "    </tr>\n",
              "    <tr>\n",
              "      <th>3</th>\n",
              "      <td>FMR, LLC</td>\n",
              "      <td>222257473</td>\n",
              "      <td>2020-12-30</td>\n",
              "      <td>0.0295</td>\n",
              "      <td>49434507144</td>\n",
              "    </tr>\n",
              "    <tr>\n",
              "      <th>4</th>\n",
              "      <td>Price (T.Rowe) Associates Inc</td>\n",
              "      <td>177500157</td>\n",
              "      <td>2020-12-30</td>\n",
              "      <td>0.0235</td>\n",
              "      <td>39479584919</td>\n",
              "    </tr>\n",
              "    <tr>\n",
              "      <th>5</th>\n",
              "      <td>Geode Capital Management, LLC</td>\n",
              "      <td>117798162</td>\n",
              "      <td>2020-12-30</td>\n",
              "      <td>0.0156</td>\n",
              "      <td>26200667192</td>\n",
              "    </tr>\n",
              "    <tr>\n",
              "      <th>6</th>\n",
              "      <td>Capital World Investors</td>\n",
              "      <td>110441260</td>\n",
              "      <td>2020-12-30</td>\n",
              "      <td>0.0146</td>\n",
              "      <td>24564345049</td>\n",
              "    </tr>\n",
              "    <tr>\n",
              "      <th>7</th>\n",
              "      <td>Capital Research Global Investors</td>\n",
              "      <td>95506129</td>\n",
              "      <td>2020-12-30</td>\n",
              "      <td>0.0127</td>\n",
              "      <td>21242473212</td>\n",
              "    </tr>\n",
              "    <tr>\n",
              "      <th>8</th>\n",
              "      <td>Capital International Investors</td>\n",
              "      <td>91995988</td>\n",
              "      <td>2020-12-30</td>\n",
              "      <td>0.0122</td>\n",
              "      <td>20461747650</td>\n",
              "    </tr>\n",
              "    <tr>\n",
              "      <th>9</th>\n",
              "      <td>Northern Trust Corporation</td>\n",
              "      <td>91215100</td>\n",
              "      <td>2020-12-30</td>\n",
              "      <td>0.0121</td>\n",
              "      <td>20288062542</td>\n",
              "    </tr>\n",
              "  </tbody>\n",
              "</table>\n",
              "</div>"
            ],
            "text/plain": [
              "                              Holder     Shares  ...   % Out         Value\n",
              "0         Vanguard Group, Inc. (The)  614100233  ...  0.0814  136588173823\n",
              "1                     Blackrock Inc.  515509179  ...  0.0683  114659551593\n",
              "2           State Street Corporation  299126371  ...  0.0397   66531687437\n",
              "3                           FMR, LLC  222257473  ...  0.0295   49434507144\n",
              "4      Price (T.Rowe) Associates Inc  177500157  ...  0.0235   39479584919\n",
              "5      Geode Capital Management, LLC  117798162  ...  0.0156   26200667192\n",
              "6            Capital World Investors  110441260  ...  0.0146   24564345049\n",
              "7  Capital Research Global Investors   95506129  ...  0.0127   21242473212\n",
              "8    Capital International Investors   91995988  ...  0.0122   20461747650\n",
              "9         Northern Trust Corporation   91215100  ...  0.0121   20288062542\n",
              "\n",
              "[10 rows x 5 columns]"
            ]
          },
          "metadata": {
            "tags": []
          },
          "execution_count": 15
        }
      ]
    },
    {
      "cell_type": "code",
      "metadata": {
        "colab": {
          "base_uri": "https://localhost:8080/",
          "height": 78
        },
        "id": "JxtW_bJ5U7KV",
        "outputId": "13d7bfc5-cec4-4e9b-bcdb-eb27d4bc5a0d"
      },
      "source": [
        "msft.cashflow"
      ],
      "execution_count": 17,
      "outputs": [
        {
          "output_type": "execute_result",
          "data": {
            "text/html": [
              "<div>\n",
              "<style scoped>\n",
              "    .dataframe tbody tr th:only-of-type {\n",
              "        vertical-align: middle;\n",
              "    }\n",
              "\n",
              "    .dataframe tbody tr th {\n",
              "        vertical-align: top;\n",
              "    }\n",
              "\n",
              "    .dataframe thead th {\n",
              "        text-align: right;\n",
              "    }\n",
              "</style>\n",
              "<table border=\"1\" class=\"dataframe\">\n",
              "  <thead>\n",
              "    <tr style=\"text-align: right;\">\n",
              "      <th></th>\n",
              "      <th>Open</th>\n",
              "      <th>High</th>\n",
              "      <th>Low</th>\n",
              "      <th>Close</th>\n",
              "      <th>Adj Close</th>\n",
              "      <th>Volume</th>\n",
              "    </tr>\n",
              "    <tr>\n",
              "      <th>Date</th>\n",
              "      <th></th>\n",
              "      <th></th>\n",
              "      <th></th>\n",
              "      <th></th>\n",
              "      <th></th>\n",
              "      <th></th>\n",
              "    </tr>\n",
              "  </thead>\n",
              "  <tbody>\n",
              "  </tbody>\n",
              "</table>\n",
              "</div>"
            ],
            "text/plain": [
              "Empty DataFrame\n",
              "Columns: [Open, High, Low, Close, Adj Close, Volume]\n",
              "Index: []"
            ]
          },
          "metadata": {
            "tags": []
          },
          "execution_count": 17
        }
      ]
    },
    {
      "cell_type": "code",
      "metadata": {
        "colab": {
          "base_uri": "https://localhost:8080/",
          "height": 78
        },
        "id": "573cY8LhVDm0",
        "outputId": "f0956b0d-3d7a-4db3-e0a6-354fec7d53d1"
      },
      "source": [
        "msft.earnings"
      ],
      "execution_count": 18,
      "outputs": [
        {
          "output_type": "execute_result",
          "data": {
            "text/html": [
              "<div>\n",
              "<style scoped>\n",
              "    .dataframe tbody tr th:only-of-type {\n",
              "        vertical-align: middle;\n",
              "    }\n",
              "\n",
              "    .dataframe tbody tr th {\n",
              "        vertical-align: top;\n",
              "    }\n",
              "\n",
              "    .dataframe thead th {\n",
              "        text-align: right;\n",
              "    }\n",
              "</style>\n",
              "<table border=\"1\" class=\"dataframe\">\n",
              "  <thead>\n",
              "    <tr style=\"text-align: right;\">\n",
              "      <th></th>\n",
              "      <th>Open</th>\n",
              "      <th>High</th>\n",
              "      <th>Low</th>\n",
              "      <th>Close</th>\n",
              "      <th>Adj Close</th>\n",
              "      <th>Volume</th>\n",
              "    </tr>\n",
              "    <tr>\n",
              "      <th>Date</th>\n",
              "      <th></th>\n",
              "      <th></th>\n",
              "      <th></th>\n",
              "      <th></th>\n",
              "      <th></th>\n",
              "      <th></th>\n",
              "    </tr>\n",
              "  </thead>\n",
              "  <tbody>\n",
              "  </tbody>\n",
              "</table>\n",
              "</div>"
            ],
            "text/plain": [
              "Empty DataFrame\n",
              "Columns: [Open, High, Low, Close, Adj Close, Volume]\n",
              "Index: []"
            ]
          },
          "metadata": {
            "tags": []
          },
          "execution_count": 18
        }
      ]
    },
    {
      "cell_type": "code",
      "metadata": {
        "colab": {
          "base_uri": "https://localhost:8080/",
          "height": 888
        },
        "id": "GXGQA6J4VG8N",
        "outputId": "03fccb3f-04a9-493d-f6bb-55fabba7a4b0"
      },
      "source": [
        "msft.sustainability"
      ],
      "execution_count": 19,
      "outputs": [
        {
          "output_type": "execute_result",
          "data": {
            "text/html": [
              "<div>\n",
              "<style scoped>\n",
              "    .dataframe tbody tr th:only-of-type {\n",
              "        vertical-align: middle;\n",
              "    }\n",
              "\n",
              "    .dataframe tbody tr th {\n",
              "        vertical-align: top;\n",
              "    }\n",
              "\n",
              "    .dataframe thead th {\n",
              "        text-align: right;\n",
              "    }\n",
              "</style>\n",
              "<table border=\"1\" class=\"dataframe\">\n",
              "  <thead>\n",
              "    <tr style=\"text-align: right;\">\n",
              "      <th></th>\n",
              "      <th>Value</th>\n",
              "    </tr>\n",
              "    <tr>\n",
              "      <th>2021-3</th>\n",
              "      <th></th>\n",
              "    </tr>\n",
              "  </thead>\n",
              "  <tbody>\n",
              "    <tr>\n",
              "      <th>palmOil</th>\n",
              "      <td>False</td>\n",
              "    </tr>\n",
              "    <tr>\n",
              "      <th>controversialWeapons</th>\n",
              "      <td>False</td>\n",
              "    </tr>\n",
              "    <tr>\n",
              "      <th>gambling</th>\n",
              "      <td>False</td>\n",
              "    </tr>\n",
              "    <tr>\n",
              "      <th>socialScore</th>\n",
              "      <td>9.37</td>\n",
              "    </tr>\n",
              "    <tr>\n",
              "      <th>nuclear</th>\n",
              "      <td>False</td>\n",
              "    </tr>\n",
              "    <tr>\n",
              "      <th>furLeather</th>\n",
              "      <td>False</td>\n",
              "    </tr>\n",
              "    <tr>\n",
              "      <th>alcoholic</th>\n",
              "      <td>False</td>\n",
              "    </tr>\n",
              "    <tr>\n",
              "      <th>gmo</th>\n",
              "      <td>False</td>\n",
              "    </tr>\n",
              "    <tr>\n",
              "      <th>catholic</th>\n",
              "      <td>False</td>\n",
              "    </tr>\n",
              "    <tr>\n",
              "      <th>socialPercentile</th>\n",
              "      <td>None</td>\n",
              "    </tr>\n",
              "    <tr>\n",
              "      <th>peerCount</th>\n",
              "      <td>103</td>\n",
              "    </tr>\n",
              "    <tr>\n",
              "      <th>governanceScore</th>\n",
              "      <td>4.9</td>\n",
              "    </tr>\n",
              "    <tr>\n",
              "      <th>environmentPercentile</th>\n",
              "      <td>None</td>\n",
              "    </tr>\n",
              "    <tr>\n",
              "      <th>animalTesting</th>\n",
              "      <td>False</td>\n",
              "    </tr>\n",
              "    <tr>\n",
              "      <th>tobacco</th>\n",
              "      <td>False</td>\n",
              "    </tr>\n",
              "    <tr>\n",
              "      <th>totalEsg</th>\n",
              "      <td>14.74</td>\n",
              "    </tr>\n",
              "    <tr>\n",
              "      <th>highestControversy</th>\n",
              "      <td>3</td>\n",
              "    </tr>\n",
              "    <tr>\n",
              "      <th>esgPerformance</th>\n",
              "      <td>UNDER_PERF</td>\n",
              "    </tr>\n",
              "    <tr>\n",
              "      <th>coal</th>\n",
              "      <td>False</td>\n",
              "    </tr>\n",
              "    <tr>\n",
              "      <th>pesticides</th>\n",
              "      <td>False</td>\n",
              "    </tr>\n",
              "    <tr>\n",
              "      <th>adult</th>\n",
              "      <td>False</td>\n",
              "    </tr>\n",
              "    <tr>\n",
              "      <th>percentile</th>\n",
              "      <td>7.55</td>\n",
              "    </tr>\n",
              "    <tr>\n",
              "      <th>peerGroup</th>\n",
              "      <td>Software &amp; Services</td>\n",
              "    </tr>\n",
              "    <tr>\n",
              "      <th>smallArms</th>\n",
              "      <td>False</td>\n",
              "    </tr>\n",
              "    <tr>\n",
              "      <th>environmentScore</th>\n",
              "      <td>0.47</td>\n",
              "    </tr>\n",
              "    <tr>\n",
              "      <th>governancePercentile</th>\n",
              "      <td>None</td>\n",
              "    </tr>\n",
              "    <tr>\n",
              "      <th>militaryContract</th>\n",
              "      <td>False</td>\n",
              "    </tr>\n",
              "  </tbody>\n",
              "</table>\n",
              "</div>"
            ],
            "text/plain": [
              "                                     Value\n",
              "2021-3                                    \n",
              "palmOil                              False\n",
              "controversialWeapons                 False\n",
              "gambling                             False\n",
              "socialScore                           9.37\n",
              "nuclear                              False\n",
              "furLeather                           False\n",
              "alcoholic                            False\n",
              "gmo                                  False\n",
              "catholic                             False\n",
              "socialPercentile                      None\n",
              "peerCount                              103\n",
              "governanceScore                        4.9\n",
              "environmentPercentile                 None\n",
              "animalTesting                        False\n",
              "tobacco                              False\n",
              "totalEsg                             14.74\n",
              "highestControversy                       3\n",
              "esgPerformance                  UNDER_PERF\n",
              "coal                                 False\n",
              "pesticides                           False\n",
              "adult                                False\n",
              "percentile                            7.55\n",
              "peerGroup              Software & Services\n",
              "smallArms                            False\n",
              "environmentScore                      0.47\n",
              "governancePercentile                  None\n",
              "militaryContract                     False"
            ]
          },
          "metadata": {
            "tags": []
          },
          "execution_count": 19
        }
      ]
    },
    {
      "cell_type": "code",
      "metadata": {
        "colab": {
          "base_uri": "https://localhost:8080/",
          "height": 437
        },
        "id": "MWwPJO2jVJTi",
        "outputId": "0ade6730-efef-435e-db53-ea61f1648809"
      },
      "source": [
        "msft.recommendations"
      ],
      "execution_count": 20,
      "outputs": [
        {
          "output_type": "execute_result",
          "data": {
            "text/html": [
              "<div>\n",
              "<style scoped>\n",
              "    .dataframe tbody tr th:only-of-type {\n",
              "        vertical-align: middle;\n",
              "    }\n",
              "\n",
              "    .dataframe tbody tr th {\n",
              "        vertical-align: top;\n",
              "    }\n",
              "\n",
              "    .dataframe thead th {\n",
              "        text-align: right;\n",
              "    }\n",
              "</style>\n",
              "<table border=\"1\" class=\"dataframe\">\n",
              "  <thead>\n",
              "    <tr style=\"text-align: right;\">\n",
              "      <th></th>\n",
              "      <th>Firm</th>\n",
              "      <th>To Grade</th>\n",
              "      <th>From Grade</th>\n",
              "      <th>Action</th>\n",
              "    </tr>\n",
              "    <tr>\n",
              "      <th>Date</th>\n",
              "      <th></th>\n",
              "      <th></th>\n",
              "      <th></th>\n",
              "      <th></th>\n",
              "    </tr>\n",
              "  </thead>\n",
              "  <tbody>\n",
              "    <tr>\n",
              "      <th>2012-03-16 08:19:00</th>\n",
              "      <td>Argus Research</td>\n",
              "      <td>Buy</td>\n",
              "      <td></td>\n",
              "      <td>up</td>\n",
              "    </tr>\n",
              "    <tr>\n",
              "      <th>2012-03-19 14:00:00</th>\n",
              "      <td>Hilliard Lyons</td>\n",
              "      <td>Long-Term Buy</td>\n",
              "      <td></td>\n",
              "      <td>main</td>\n",
              "    </tr>\n",
              "    <tr>\n",
              "      <th>2012-03-22 07:03:00</th>\n",
              "      <td>Morgan Stanley</td>\n",
              "      <td>Overweight</td>\n",
              "      <td></td>\n",
              "      <td>main</td>\n",
              "    </tr>\n",
              "    <tr>\n",
              "      <th>2012-04-03 11:53:00</th>\n",
              "      <td>UBS</td>\n",
              "      <td>Buy</td>\n",
              "      <td></td>\n",
              "      <td>main</td>\n",
              "    </tr>\n",
              "    <tr>\n",
              "      <th>2012-04-20 06:18:00</th>\n",
              "      <td>Deutsche Bank</td>\n",
              "      <td>Buy</td>\n",
              "      <td></td>\n",
              "      <td>main</td>\n",
              "    </tr>\n",
              "    <tr>\n",
              "      <th>...</th>\n",
              "      <td>...</td>\n",
              "      <td>...</td>\n",
              "      <td>...</td>\n",
              "      <td>...</td>\n",
              "    </tr>\n",
              "    <tr>\n",
              "      <th>2021-01-27 17:44:01</th>\n",
              "      <td>B of A Securities</td>\n",
              "      <td>Buy</td>\n",
              "      <td></td>\n",
              "      <td>main</td>\n",
              "    </tr>\n",
              "    <tr>\n",
              "      <th>2021-01-28 18:11:05</th>\n",
              "      <td>Argus Research</td>\n",
              "      <td>Buy</td>\n",
              "      <td></td>\n",
              "      <td>main</td>\n",
              "    </tr>\n",
              "    <tr>\n",
              "      <th>2021-02-02 10:28:34</th>\n",
              "      <td>Piper Sandler</td>\n",
              "      <td>Overweight</td>\n",
              "      <td></td>\n",
              "      <td>reit</td>\n",
              "    </tr>\n",
              "    <tr>\n",
              "      <th>2021-02-16 13:32:33</th>\n",
              "      <td>Wedbush</td>\n",
              "      <td>Outperform</td>\n",
              "      <td></td>\n",
              "      <td>main</td>\n",
              "    </tr>\n",
              "    <tr>\n",
              "      <th>2021-03-05 13:34:12</th>\n",
              "      <td>Morgan Stanley</td>\n",
              "      <td>Overweight</td>\n",
              "      <td></td>\n",
              "      <td>main</td>\n",
              "    </tr>\n",
              "  </tbody>\n",
              "</table>\n",
              "<p>315 rows × 4 columns</p>\n",
              "</div>"
            ],
            "text/plain": [
              "                                  Firm       To Grade From Grade Action\n",
              "Date                                                                   \n",
              "2012-03-16 08:19:00     Argus Research            Buy                up\n",
              "2012-03-19 14:00:00     Hilliard Lyons  Long-Term Buy              main\n",
              "2012-03-22 07:03:00     Morgan Stanley     Overweight              main\n",
              "2012-04-03 11:53:00                UBS            Buy              main\n",
              "2012-04-20 06:18:00      Deutsche Bank            Buy              main\n",
              "...                                ...            ...        ...    ...\n",
              "2021-01-27 17:44:01  B of A Securities            Buy              main\n",
              "2021-01-28 18:11:05     Argus Research            Buy              main\n",
              "2021-02-02 10:28:34      Piper Sandler     Overweight              reit\n",
              "2021-02-16 13:32:33            Wedbush     Outperform              main\n",
              "2021-03-05 13:34:12     Morgan Stanley     Overweight              main\n",
              "\n",
              "[315 rows x 4 columns]"
            ]
          },
          "metadata": {
            "tags": []
          },
          "execution_count": 20
        }
      ]
    },
    {
      "cell_type": "code",
      "metadata": {
        "colab": {
          "base_uri": "https://localhost:8080/"
        },
        "id": "5Zn_5bQVVOeA",
        "outputId": "27af2fe9-a933-44ef-bf59-e9c08dec9044"
      },
      "source": [
        "msft.recommendations['To Grade'].value_counts()"
      ],
      "execution_count": 21,
      "outputs": [
        {
          "output_type": "execute_result",
          "data": {
            "text/plain": [
              "Buy               90\n",
              "Overweight        67\n",
              "Outperform        60\n",
              "Neutral           37\n",
              "Hold              14\n",
              "Market Perform    10\n",
              "Sell              10\n",
              "Strong Buy         8\n",
              "Equal-Weight       6\n",
              "Underperform       6\n",
              "Underweight        2\n",
              "Sector Perform     2\n",
              "Long-Term Buy      1\n",
              "Perform            1\n",
              "                   1\n",
              "Name: To Grade, dtype: int64"
            ]
          },
          "metadata": {
            "tags": []
          },
          "execution_count": 21
        }
      ]
    },
    {
      "cell_type": "code",
      "metadata": {
        "colab": {
          "base_uri": "https://localhost:8080/",
          "height": 258
        },
        "id": "r4fOUwjtVWbY",
        "outputId": "e521154a-3250-4712-e8d8-42fa128c5eaf"
      },
      "source": [
        "msft.calendar"
      ],
      "execution_count": 22,
      "outputs": [
        {
          "output_type": "execute_result",
          "data": {
            "text/html": [
              "<div>\n",
              "<style scoped>\n",
              "    .dataframe tbody tr th:only-of-type {\n",
              "        vertical-align: middle;\n",
              "    }\n",
              "\n",
              "    .dataframe tbody tr th {\n",
              "        vertical-align: top;\n",
              "    }\n",
              "\n",
              "    .dataframe thead th {\n",
              "        text-align: right;\n",
              "    }\n",
              "</style>\n",
              "<table border=\"1\" class=\"dataframe\">\n",
              "  <thead>\n",
              "    <tr style=\"text-align: right;\">\n",
              "      <th></th>\n",
              "      <th>0</th>\n",
              "      <th>1</th>\n",
              "    </tr>\n",
              "  </thead>\n",
              "  <tbody>\n",
              "    <tr>\n",
              "      <th>Earnings Date</th>\n",
              "      <td>2021-04-27 00:00:00</td>\n",
              "      <td>2021-05-03 00:00:00</td>\n",
              "    </tr>\n",
              "    <tr>\n",
              "      <th>Earnings Average</th>\n",
              "      <td>1.77</td>\n",
              "      <td>1.77</td>\n",
              "    </tr>\n",
              "    <tr>\n",
              "      <th>Earnings Low</th>\n",
              "      <td>1.69</td>\n",
              "      <td>1.69</td>\n",
              "    </tr>\n",
              "    <tr>\n",
              "      <th>Earnings High</th>\n",
              "      <td>1.93</td>\n",
              "      <td>1.93</td>\n",
              "    </tr>\n",
              "    <tr>\n",
              "      <th>Revenue Average</th>\n",
              "      <td>41032800000</td>\n",
              "      <td>41032800000</td>\n",
              "    </tr>\n",
              "    <tr>\n",
              "      <th>Revenue Low</th>\n",
              "      <td>40541000000</td>\n",
              "      <td>40541000000</td>\n",
              "    </tr>\n",
              "    <tr>\n",
              "      <th>Revenue High</th>\n",
              "      <td>41894000000</td>\n",
              "      <td>41894000000</td>\n",
              "    </tr>\n",
              "  </tbody>\n",
              "</table>\n",
              "</div>"
            ],
            "text/plain": [
              "                                    0                    1\n",
              "Earnings Date     2021-04-27 00:00:00  2021-05-03 00:00:00\n",
              "Earnings Average                 1.77                 1.77\n",
              "Earnings Low                     1.69                 1.69\n",
              "Earnings High                    1.93                 1.93\n",
              "Revenue Average           41032800000          41032800000\n",
              "Revenue Low               40541000000          40541000000\n",
              "Revenue High              41894000000          41894000000"
            ]
          },
          "metadata": {
            "tags": []
          },
          "execution_count": 22
        }
      ]
    },
    {
      "cell_type": "code",
      "metadata": {
        "colab": {
          "base_uri": "https://localhost:8080/",
          "height": 35
        },
        "id": "yCdEqEttVjxC",
        "outputId": "6ba23f19-c120-450f-d1d8-fe3a9bf8fc45"
      },
      "source": [
        "msft.isin"
      ],
      "execution_count": 23,
      "outputs": [
        {
          "output_type": "execute_result",
          "data": {
            "application/vnd.google.colaboratory.intrinsic+json": {
              "type": "string"
            },
            "text/plain": [
              "'US5949181045'"
            ]
          },
          "metadata": {
            "tags": []
          },
          "execution_count": 23
        }
      ]
    },
    {
      "cell_type": "code",
      "metadata": {
        "colab": {
          "base_uri": "https://localhost:8080/"
        },
        "id": "h0cx4iL4VnlV",
        "outputId": "ed2e5a9b-0257-4fa3-ffd5-82198abe3c61"
      },
      "source": [
        "msft.options"
      ],
      "execution_count": 24,
      "outputs": [
        {
          "output_type": "execute_result",
          "data": {
            "text/plain": [
              "('2021-03-12',\n",
              " '2021-03-19',\n",
              " '2021-03-26',\n",
              " '2021-04-01',\n",
              " '2021-04-09',\n",
              " '2021-04-16',\n",
              " '2021-04-23',\n",
              " '2021-05-21',\n",
              " '2021-06-18',\n",
              " '2021-07-16',\n",
              " '2021-08-20',\n",
              " '2021-09-17',\n",
              " '2021-10-15',\n",
              " '2022-01-21',\n",
              " '2022-03-18',\n",
              " '2022-06-17',\n",
              " '2022-09-16',\n",
              " '2023-01-20',\n",
              " '2023-03-17',\n",
              " '2023-06-16')"
            ]
          },
          "metadata": {
            "tags": []
          },
          "execution_count": 24
        }
      ]
    },
    {
      "cell_type": "code",
      "metadata": {
        "colab": {
          "base_uri": "https://localhost:8080/",
          "height": 661
        },
        "id": "AaecBgmZVrui",
        "outputId": "49df2199-1fa2-4347-8ca1-d92b277efc37"
      },
      "source": [
        "hist.plot(kind=\"line\", figsize=(12, 12), subplots=True);"
      ],
      "execution_count": 27,
      "outputs": [
        {
          "output_type": "display_data",
          "data": {
            "image/png": "[encoded data removed]",
            "text/plain": [
              "<Figure size 864x864 with 7 Axes>"
            ]
          },
          "metadata": {
            "tags": [],
            "needs_background": "light"
          }
        }
      ]
    },
    {
      "cell_type": "markdown",
      "metadata": {
        "id": "GSjG-ZOOWIrs"
      },
      "source": [
        "## Adv. Financial Data Gathering"
      ]
    },
    {
      "cell_type": "code",
      "metadata": {
        "id": "q-FH-JsyV20p"
      },
      "source": [
        "#Major Indicies\n",
        "major_indices = pd.read_html(\"https://finance.yahoo.com/world-indices\")[0]"
      ],
      "execution_count": 28,
      "outputs": []
    },
    {
      "cell_type": "code",
      "metadata": {
        "colab": {
          "base_uri": "https://localhost:8080/",
          "height": 198
        },
        "id": "amb7gF85WqVw",
        "outputId": "c338ee2c-25c0-4ee3-f16a-a6c5e95f0c2f"
      },
      "source": [
        "major_indices.head()"
      ],
      "execution_count": 29,
      "outputs": [
        {
          "output_type": "execute_result",
          "data": {
            "text/html": [
              "<div>\n",
              "<style scoped>\n",
              "    .dataframe tbody tr th:only-of-type {\n",
              "        vertical-align: middle;\n",
              "    }\n",
              "\n",
              "    .dataframe tbody tr th {\n",
              "        vertical-align: top;\n",
              "    }\n",
              "\n",
              "    .dataframe thead th {\n",
              "        text-align: right;\n",
              "    }\n",
              "</style>\n",
              "<table border=\"1\" class=\"dataframe\">\n",
              "  <thead>\n",
              "    <tr style=\"text-align: right;\">\n",
              "      <th></th>\n",
              "      <th>Symbol</th>\n",
              "      <th>Name</th>\n",
              "      <th>Last Price</th>\n",
              "      <th>Change</th>\n",
              "      <th>% Change</th>\n",
              "      <th>Volume</th>\n",
              "      <th>Intraday High/Low</th>\n",
              "      <th>52 Week Range</th>\n",
              "      <th>Day Chart</th>\n",
              "    </tr>\n",
              "  </thead>\n",
              "  <tbody>\n",
              "    <tr>\n",
              "      <th>0</th>\n",
              "      <td>^GSPC</td>\n",
              "      <td>S&amp;P 500</td>\n",
              "      <td>3903.47</td>\n",
              "      <td>28.03</td>\n",
              "      <td>+0.72%</td>\n",
              "      <td>1.458B</td>\n",
              "      <td>NaN</td>\n",
              "      <td>NaN</td>\n",
              "      <td>NaN</td>\n",
              "    </tr>\n",
              "    <tr>\n",
              "      <th>1</th>\n",
              "      <td>^DJI</td>\n",
              "      <td>Dow 30</td>\n",
              "      <td>32264.35</td>\n",
              "      <td>431.61</td>\n",
              "      <td>+1.36%</td>\n",
              "      <td>233.622M</td>\n",
              "      <td>NaN</td>\n",
              "      <td>NaN</td>\n",
              "      <td>NaN</td>\n",
              "    </tr>\n",
              "    <tr>\n",
              "      <th>2</th>\n",
              "      <td>^IXIC</td>\n",
              "      <td>Nasdaq</td>\n",
              "      <td>13096.69</td>\n",
              "      <td>22.86</td>\n",
              "      <td>+0.17%</td>\n",
              "      <td>3.624B</td>\n",
              "      <td>NaN</td>\n",
              "      <td>NaN</td>\n",
              "      <td>NaN</td>\n",
              "    </tr>\n",
              "    <tr>\n",
              "      <th>3</th>\n",
              "      <td>^NYA</td>\n",
              "      <td>NYSE COMPOSITE (DJ)</td>\n",
              "      <td>15503.10</td>\n",
              "      <td>127.47</td>\n",
              "      <td>+0.83%</td>\n",
              "      <td>0</td>\n",
              "      <td>NaN</td>\n",
              "      <td>NaN</td>\n",
              "      <td>NaN</td>\n",
              "    </tr>\n",
              "    <tr>\n",
              "      <th>4</th>\n",
              "      <td>^XAX</td>\n",
              "      <td>NYSE AMEX COMPOSITE INDEX</td>\n",
              "      <td>2774.44</td>\n",
              "      <td>29.25</td>\n",
              "      <td>+1.07%</td>\n",
              "      <td>0</td>\n",
              "      <td>NaN</td>\n",
              "      <td>NaN</td>\n",
              "      <td>NaN</td>\n",
              "    </tr>\n",
              "  </tbody>\n",
              "</table>\n",
              "</div>"
            ],
            "text/plain": [
              "  Symbol                       Name  ...  52 Week Range  Day Chart\n",
              "0  ^GSPC                    S&P 500  ...            NaN        NaN\n",
              "1   ^DJI                     Dow 30  ...            NaN        NaN\n",
              "2  ^IXIC                     Nasdaq  ...            NaN        NaN\n",
              "3   ^NYA        NYSE COMPOSITE (DJ)  ...            NaN        NaN\n",
              "4   ^XAX  NYSE AMEX COMPOSITE INDEX  ...            NaN        NaN\n",
              "\n",
              "[5 rows x 9 columns]"
            ]
          },
          "metadata": {
            "tags": []
          },
          "execution_count": 29
        }
      ]
    },
    {
      "cell_type": "code",
      "metadata": {
        "id": "fmDB6Y0PWrYP"
      },
      "source": [
        "ticker_list = major_indices['Symbol'].str.replace(\"^\",\"\").str.lower().to_list()"
      ],
      "execution_count": 34,
      "outputs": []
    },
    {
      "cell_type": "code",
      "metadata": {
        "colab": {
          "base_uri": "https://localhost:8080/"
        },
        "id": "pidhSBoLXqWs",
        "outputId": "c047def3-06cb-4c21-dca0-c1e0cfb4a7c0"
      },
      "source": [
        "len(ticker_list)"
      ],
      "execution_count": 39,
      "outputs": [
        {
          "output_type": "execute_result",
          "data": {
            "text/plain": [
              "36"
            ]
          },
          "metadata": {
            "tags": []
          },
          "execution_count": 39
        }
      ]
    },
    {
      "cell_type": "code",
      "metadata": {
        "colab": {
          "base_uri": "https://localhost:8080/"
        },
        "id": "qlb8lxjxXRDU",
        "outputId": "aef0a355-8824-456c-b28e-422ec1f8fd22"
      },
      "source": [
        "df = yf.download(ticker_list, period=\"1d\", start=\"2020-01-13\", end=\"2021-03-10\")"
      ],
      "execution_count": 38,
      "outputs": [
        {
          "output_type": "stream",
          "text": [
            "[*********************100%***********************]  36 of 36 completed\n",
            "\n",
            "29 Failed downloads:\n",
            "- IPSA: No data found, symbol may be delisted\n",
            "- GDAXI: No data found, symbol may be delisted\n",
            "- GSPTSE: No data found, symbol may be delisted\n",
            "- VIX: No data found for this date range, symbol may be delisted\n",
            "- TA125.TA: No data found, symbol may be delisted\n",
            "- KLSE: No data found for this date range, symbol may be delisted\n",
            "- N100: No data found, symbol may be delisted\n",
            "- RUT: No data found for this date range, symbol may be delisted\n",
            "- CASE30: No data found, symbol may be delisted\n",
            "- NZ50: No data found, symbol may be delisted\n",
            "- JKSE: No data found, symbol may be delisted\n",
            "- BUK100P: No data found, symbol may be delisted\n",
            "- KS11: No data found, symbol may be delisted\n",
            "- MXX: No data found for this date range, symbol may be delisted\n",
            "- AORD: No data found, symbol may be delisted\n",
            "- GSPC: No data found, symbol may be delisted\n",
            "- TWII: No data found, symbol may be delisted\n",
            "- BFX: No data found for this date range, symbol may be delisted\n",
            "- N225: No data found, symbol may be delisted\n",
            "- FTSE: No data found, symbol may be delisted\n",
            "- IXIC: No data found, symbol may be delisted\n",
            "- MERV: No data found, symbol may be delisted\n",
            "- JN0U.JO: No data found, symbol may be delisted\n",
            "- BSESN: No data found, symbol may be delisted\n",
            "- AXJO: No data found, symbol may be delisted\n",
            "- STI: No data found, symbol may be delisted\n",
            "- BVSP: No data found, symbol may be delisted\n",
            "- STOXX50E: No data found, symbol may be delisted\n",
            "- FCHI: No data found, symbol may be delisted\n"
          ],
          "name": "stdout"
        }
      ]
    },
    {
      "cell_type": "code",
      "metadata": {
        "colab": {
          "base_uri": "https://localhost:8080/"
        },
        "id": "rFAv-rKWXme3",
        "outputId": "0ae8993d-7c6a-44d6-fa0f-6a11f7715499"
      },
      "source": [
        "df.columns"
      ],
      "execution_count": 41,
      "outputs": [
        {
          "output_type": "execute_result",
          "data": {
            "text/plain": [
              "MultiIndex([('Adj Close', '000001.SS'),\n",
              "            ('Adj Close', '399001.SZ'),\n",
              "            ('Adj Close',      'AORD'),\n",
              "            ('Adj Close',      'AXJO'),\n",
              "            ('Adj Close',       'BFX'),\n",
              "            ('Adj Close',     'BSESN'),\n",
              "            ('Adj Close',   'BUK100P'),\n",
              "            ('Adj Close',      'BVSP'),\n",
              "            ('Adj Close',    'CASE30'),\n",
              "            ('Adj Close',       'DJI'),\n",
              "            ...\n",
              "            (   'Volume',      'N225'),\n",
              "            (   'Volume',       'NYA'),\n",
              "            (   'Volume',      'NZ50'),\n",
              "            (   'Volume',       'RUT'),\n",
              "            (   'Volume',       'STI'),\n",
              "            (   'Volume',  'STOXX50E'),\n",
              "            (   'Volume',  'TA125.TA'),\n",
              "            (   'Volume',      'TWII'),\n",
              "            (   'Volume',       'VIX'),\n",
              "            (   'Volume',       'XAX')],\n",
              "           length=216)"
            ]
          },
          "metadata": {
            "tags": []
          },
          "execution_count": 41
        }
      ]
    },
    {
      "cell_type": "code",
      "metadata": {
        "colab": {
          "base_uri": "https://localhost:8080/",
          "height": 394
        },
        "id": "8V2iZ5aFXxc6",
        "outputId": "9a2c47fe-c5a0-41a2-d1f8-c1ebfdbdef29"
      },
      "source": [
        "df.head()"
      ],
      "execution_count": 42,
      "outputs": [
        {
          "output_type": "execute_result",
          "data": {
            "text/html": [
              "<div>\n",
              "<style scoped>\n",
              "    .dataframe tbody tr th:only-of-type {\n",
              "        vertical-align: middle;\n",
              "    }\n",
              "\n",
              "    .dataframe tbody tr th {\n",
              "        vertical-align: top;\n",
              "    }\n",
              "\n",
              "    .dataframe thead tr th {\n",
              "        text-align: left;\n",
              "    }\n",
              "\n",
              "    .dataframe thead tr:last-of-type th {\n",
              "        text-align: right;\n",
              "    }\n",
              "</style>\n",
              "<table border=\"1\" class=\"dataframe\">\n",
              "  <thead>\n",
              "    <tr>\n",
              "      <th></th>\n",
              "      <th colspan=\"36\" halign=\"left\">Adj Close</th>\n",
              "      <th colspan=\"4\" halign=\"left\">Close</th>\n",
              "      <th>...</th>\n",
              "      <th colspan=\"4\" halign=\"left\">Open</th>\n",
              "      <th colspan=\"36\" halign=\"left\">Volume</th>\n",
              "    </tr>\n",
              "    <tr>\n",
              "      <th></th>\n",
              "      <th>000001.SS</th>\n",
              "      <th>399001.SZ</th>\n",
              "      <th>AORD</th>\n",
              "      <th>AXJO</th>\n",
              "      <th>BFX</th>\n",
              "      <th>BSESN</th>\n",
              "      <th>BUK100P</th>\n",
              "      <th>BVSP</th>\n",
              "      <th>CASE30</th>\n",
              "      <th>DJI</th>\n",
              "      <th>FCHI</th>\n",
              "      <th>FTSE</th>\n",
              "      <th>GDAXI</th>\n",
              "      <th>GSPC</th>\n",
              "      <th>GSPTSE</th>\n",
              "      <th>HSI</th>\n",
              "      <th>IMOEX.ME</th>\n",
              "      <th>IPSA</th>\n",
              "      <th>IXIC</th>\n",
              "      <th>JKSE</th>\n",
              "      <th>JN0U.JO</th>\n",
              "      <th>KLSE</th>\n",
              "      <th>KS11</th>\n",
              "      <th>MERV</th>\n",
              "      <th>MXX</th>\n",
              "      <th>N100</th>\n",
              "      <th>N225</th>\n",
              "      <th>NYA</th>\n",
              "      <th>NZ50</th>\n",
              "      <th>RUT</th>\n",
              "      <th>STI</th>\n",
              "      <th>STOXX50E</th>\n",
              "      <th>TA125.TA</th>\n",
              "      <th>TWII</th>\n",
              "      <th>VIX</th>\n",
              "      <th>XAX</th>\n",
              "      <th>000001.SS</th>\n",
              "      <th>399001.SZ</th>\n",
              "      <th>AORD</th>\n",
              "      <th>AXJO</th>\n",
              "      <th>...</th>\n",
              "      <th>TA125.TA</th>\n",
              "      <th>TWII</th>\n",
              "      <th>VIX</th>\n",
              "      <th>XAX</th>\n",
              "      <th>000001.SS</th>\n",
              "      <th>399001.SZ</th>\n",
              "      <th>AORD</th>\n",
              "      <th>AXJO</th>\n",
              "      <th>BFX</th>\n",
              "      <th>BSESN</th>\n",
              "      <th>BUK100P</th>\n",
              "      <th>BVSP</th>\n",
              "      <th>CASE30</th>\n",
              "      <th>DJI</th>\n",
              "      <th>FCHI</th>\n",
              "      <th>FTSE</th>\n",
              "      <th>GDAXI</th>\n",
              "      <th>GSPC</th>\n",
              "      <th>GSPTSE</th>\n",
              "      <th>HSI</th>\n",
              "      <th>IMOEX.ME</th>\n",
              "      <th>IPSA</th>\n",
              "      <th>IXIC</th>\n",
              "      <th>JKSE</th>\n",
              "      <th>JN0U.JO</th>\n",
              "      <th>KLSE</th>\n",
              "      <th>KS11</th>\n",
              "      <th>MERV</th>\n",
              "      <th>MXX</th>\n",
              "      <th>N100</th>\n",
              "      <th>N225</th>\n",
              "      <th>NYA</th>\n",
              "      <th>NZ50</th>\n",
              "      <th>RUT</th>\n",
              "      <th>STI</th>\n",
              "      <th>STOXX50E</th>\n",
              "      <th>TA125.TA</th>\n",
              "      <th>TWII</th>\n",
              "      <th>VIX</th>\n",
              "      <th>XAX</th>\n",
              "    </tr>\n",
              "    <tr>\n",
              "      <th>Date</th>\n",
              "      <th></th>\n",
              "      <th></th>\n",
              "      <th></th>\n",
              "      <th></th>\n",
              "      <th></th>\n",
              "      <th></th>\n",
              "      <th></th>\n",
              "      <th></th>\n",
              "      <th></th>\n",
              "      <th></th>\n",
              "      <th></th>\n",
              "      <th></th>\n",
              "      <th></th>\n",
              "      <th></th>\n",
              "      <th></th>\n",
              "      <th></th>\n",
              "      <th></th>\n",
              "      <th></th>\n",
              "      <th></th>\n",
              "      <th></th>\n",
              "      <th></th>\n",
              "      <th></th>\n",
              "      <th></th>\n",
              "      <th></th>\n",
              "      <th></th>\n",
              "      <th></th>\n",
              "      <th></th>\n",
              "      <th></th>\n",
              "      <th></th>\n",
              "      <th></th>\n",
              "      <th></th>\n",
              "      <th></th>\n",
              "      <th></th>\n",
              "      <th></th>\n",
              "      <th></th>\n",
              "      <th></th>\n",
              "      <th></th>\n",
              "      <th></th>\n",
              "      <th></th>\n",
              "      <th></th>\n",
              "      <th></th>\n",
              "      <th></th>\n",
              "      <th></th>\n",
              "      <th></th>\n",
              "      <th></th>\n",
              "      <th></th>\n",
              "      <th></th>\n",
              "      <th></th>\n",
              "      <th></th>\n",
              "      <th></th>\n",
              "      <th></th>\n",
              "      <th></th>\n",
              "      <th></th>\n",
              "      <th></th>\n",
              "      <th></th>\n",
              "      <th></th>\n",
              "      <th></th>\n",
              "      <th></th>\n",
              "      <th></th>\n",
              "      <th></th>\n",
              "      <th></th>\n",
              "      <th></th>\n",
              "      <th></th>\n",
              "      <th></th>\n",
              "      <th></th>\n",
              "      <th></th>\n",
              "      <th></th>\n",
              "      <th></th>\n",
              "      <th></th>\n",
              "      <th></th>\n",
              "      <th></th>\n",
              "      <th></th>\n",
              "      <th></th>\n",
              "      <th></th>\n",
              "      <th></th>\n",
              "      <th></th>\n",
              "      <th></th>\n",
              "      <th></th>\n",
              "      <th></th>\n",
              "      <th></th>\n",
              "      <th></th>\n",
              "    </tr>\n",
              "  </thead>\n",
              "  <tbody>\n",
              "    <tr>\n",
              "      <th>2020-01-13</th>\n",
              "      <td>3115.570068</td>\n",
              "      <td>11040.200195</td>\n",
              "      <td>NaN</td>\n",
              "      <td>NaN</td>\n",
              "      <td>NaN</td>\n",
              "      <td>NaN</td>\n",
              "      <td>NaN</td>\n",
              "      <td>NaN</td>\n",
              "      <td>NaN</td>\n",
              "      <td>28907.099609</td>\n",
              "      <td>NaN</td>\n",
              "      <td>NaN</td>\n",
              "      <td>NaN</td>\n",
              "      <td>NaN</td>\n",
              "      <td>NaN</td>\n",
              "      <td>NaN</td>\n",
              "      <td>3151.689941</td>\n",
              "      <td>NaN</td>\n",
              "      <td>NaN</td>\n",
              "      <td>NaN</td>\n",
              "      <td>NaN</td>\n",
              "      <td>NaN</td>\n",
              "      <td>NaN</td>\n",
              "      <td>NaN</td>\n",
              "      <td>NaN</td>\n",
              "      <td>NaN</td>\n",
              "      <td>NaN</td>\n",
              "      <td>14042.599609</td>\n",
              "      <td>NaN</td>\n",
              "      <td>NaN</td>\n",
              "      <td>NaN</td>\n",
              "      <td>NaN</td>\n",
              "      <td>NaN</td>\n",
              "      <td>NaN</td>\n",
              "      <td>NaN</td>\n",
              "      <td>2576.770020</td>\n",
              "      <td>3115.570068</td>\n",
              "      <td>11040.200195</td>\n",
              "      <td>NaN</td>\n",
              "      <td>NaN</td>\n",
              "      <td>...</td>\n",
              "      <td>NaN</td>\n",
              "      <td>NaN</td>\n",
              "      <td>NaN</td>\n",
              "      <td>2576.770020</td>\n",
              "      <td>210600.0</td>\n",
              "      <td>151200.0</td>\n",
              "      <td>NaN</td>\n",
              "      <td>NaN</td>\n",
              "      <td>NaN</td>\n",
              "      <td>NaN</td>\n",
              "      <td>NaN</td>\n",
              "      <td>NaN</td>\n",
              "      <td>NaN</td>\n",
              "      <td>0.0</td>\n",
              "      <td>NaN</td>\n",
              "      <td>NaN</td>\n",
              "      <td>NaN</td>\n",
              "      <td>NaN</td>\n",
              "      <td>NaN</td>\n",
              "      <td>NaN</td>\n",
              "      <td>0.0</td>\n",
              "      <td>NaN</td>\n",
              "      <td>NaN</td>\n",
              "      <td>NaN</td>\n",
              "      <td>NaN</td>\n",
              "      <td>NaN</td>\n",
              "      <td>NaN</td>\n",
              "      <td>NaN</td>\n",
              "      <td>NaN</td>\n",
              "      <td>NaN</td>\n",
              "      <td>NaN</td>\n",
              "      <td>0.0</td>\n",
              "      <td>NaN</td>\n",
              "      <td>NaN</td>\n",
              "      <td>NaN</td>\n",
              "      <td>NaN</td>\n",
              "      <td>NaN</td>\n",
              "      <td>NaN</td>\n",
              "      <td>NaN</td>\n",
              "      <td>0.0</td>\n",
              "    </tr>\n",
              "    <tr>\n",
              "      <th>2020-01-14</th>\n",
              "      <td>3106.820068</td>\n",
              "      <td>10988.769531</td>\n",
              "      <td>NaN</td>\n",
              "      <td>NaN</td>\n",
              "      <td>NaN</td>\n",
              "      <td>NaN</td>\n",
              "      <td>NaN</td>\n",
              "      <td>NaN</td>\n",
              "      <td>NaN</td>\n",
              "      <td>28939.699219</td>\n",
              "      <td>NaN</td>\n",
              "      <td>NaN</td>\n",
              "      <td>NaN</td>\n",
              "      <td>NaN</td>\n",
              "      <td>NaN</td>\n",
              "      <td>NaN</td>\n",
              "      <td>3129.770020</td>\n",
              "      <td>NaN</td>\n",
              "      <td>NaN</td>\n",
              "      <td>NaN</td>\n",
              "      <td>NaN</td>\n",
              "      <td>NaN</td>\n",
              "      <td>NaN</td>\n",
              "      <td>NaN</td>\n",
              "      <td>NaN</td>\n",
              "      <td>NaN</td>\n",
              "      <td>NaN</td>\n",
              "      <td>NaN</td>\n",
              "      <td>NaN</td>\n",
              "      <td>NaN</td>\n",
              "      <td>NaN</td>\n",
              "      <td>NaN</td>\n",
              "      <td>NaN</td>\n",
              "      <td>NaN</td>\n",
              "      <td>NaN</td>\n",
              "      <td>NaN</td>\n",
              "      <td>3106.820068</td>\n",
              "      <td>10988.769531</td>\n",
              "      <td>NaN</td>\n",
              "      <td>NaN</td>\n",
              "      <td>...</td>\n",
              "      <td>NaN</td>\n",
              "      <td>NaN</td>\n",
              "      <td>NaN</td>\n",
              "      <td>NaN</td>\n",
              "      <td>230000.0</td>\n",
              "      <td>164700.0</td>\n",
              "      <td>NaN</td>\n",
              "      <td>NaN</td>\n",
              "      <td>NaN</td>\n",
              "      <td>NaN</td>\n",
              "      <td>NaN</td>\n",
              "      <td>NaN</td>\n",
              "      <td>NaN</td>\n",
              "      <td>0.0</td>\n",
              "      <td>NaN</td>\n",
              "      <td>NaN</td>\n",
              "      <td>NaN</td>\n",
              "      <td>NaN</td>\n",
              "      <td>NaN</td>\n",
              "      <td>NaN</td>\n",
              "      <td>0.0</td>\n",
              "      <td>NaN</td>\n",
              "      <td>NaN</td>\n",
              "      <td>NaN</td>\n",
              "      <td>NaN</td>\n",
              "      <td>NaN</td>\n",
              "      <td>NaN</td>\n",
              "      <td>NaN</td>\n",
              "      <td>NaN</td>\n",
              "      <td>NaN</td>\n",
              "      <td>NaN</td>\n",
              "      <td>NaN</td>\n",
              "      <td>NaN</td>\n",
              "      <td>NaN</td>\n",
              "      <td>NaN</td>\n",
              "      <td>NaN</td>\n",
              "      <td>NaN</td>\n",
              "      <td>NaN</td>\n",
              "      <td>NaN</td>\n",
              "      <td>NaN</td>\n",
              "    </tr>\n",
              "    <tr>\n",
              "      <th>2020-01-15</th>\n",
              "      <td>3090.040039</td>\n",
              "      <td>10972.320312</td>\n",
              "      <td>NaN</td>\n",
              "      <td>NaN</td>\n",
              "      <td>NaN</td>\n",
              "      <td>NaN</td>\n",
              "      <td>NaN</td>\n",
              "      <td>NaN</td>\n",
              "      <td>NaN</td>\n",
              "      <td>29030.199219</td>\n",
              "      <td>NaN</td>\n",
              "      <td>NaN</td>\n",
              "      <td>NaN</td>\n",
              "      <td>NaN</td>\n",
              "      <td>NaN</td>\n",
              "      <td>NaN</td>\n",
              "      <td>3132.629883</td>\n",
              "      <td>NaN</td>\n",
              "      <td>NaN</td>\n",
              "      <td>NaN</td>\n",
              "      <td>NaN</td>\n",
              "      <td>NaN</td>\n",
              "      <td>NaN</td>\n",
              "      <td>NaN</td>\n",
              "      <td>NaN</td>\n",
              "      <td>NaN</td>\n",
              "      <td>NaN</td>\n",
              "      <td>NaN</td>\n",
              "      <td>NaN</td>\n",
              "      <td>NaN</td>\n",
              "      <td>NaN</td>\n",
              "      <td>NaN</td>\n",
              "      <td>NaN</td>\n",
              "      <td>NaN</td>\n",
              "      <td>NaN</td>\n",
              "      <td>NaN</td>\n",
              "      <td>3090.040039</td>\n",
              "      <td>10972.320312</td>\n",
              "      <td>NaN</td>\n",
              "      <td>NaN</td>\n",
              "      <td>...</td>\n",
              "      <td>NaN</td>\n",
              "      <td>NaN</td>\n",
              "      <td>NaN</td>\n",
              "      <td>NaN</td>\n",
              "      <td>202300.0</td>\n",
              "      <td>139100.0</td>\n",
              "      <td>NaN</td>\n",
              "      <td>NaN</td>\n",
              "      <td>NaN</td>\n",
              "      <td>NaN</td>\n",
              "      <td>NaN</td>\n",
              "      <td>NaN</td>\n",
              "      <td>NaN</td>\n",
              "      <td>0.0</td>\n",
              "      <td>NaN</td>\n",
              "      <td>NaN</td>\n",
              "      <td>NaN</td>\n",
              "      <td>NaN</td>\n",
              "      <td>NaN</td>\n",
              "      <td>NaN</td>\n",
              "      <td>0.0</td>\n",
              "      <td>NaN</td>\n",
              "      <td>NaN</td>\n",
              "      <td>NaN</td>\n",
              "      <td>NaN</td>\n",
              "      <td>NaN</td>\n",
              "      <td>NaN</td>\n",
              "      <td>NaN</td>\n",
              "      <td>NaN</td>\n",
              "      <td>NaN</td>\n",
              "      <td>NaN</td>\n",
              "      <td>NaN</td>\n",
              "      <td>NaN</td>\n",
              "      <td>NaN</td>\n",
              "      <td>NaN</td>\n",
              "      <td>NaN</td>\n",
              "      <td>NaN</td>\n",
              "      <td>NaN</td>\n",
              "      <td>NaN</td>\n",
              "      <td>NaN</td>\n",
              "    </tr>\n",
              "    <tr>\n",
              "      <th>2020-01-16</th>\n",
              "      <td>3074.081055</td>\n",
              "      <td>10967.440430</td>\n",
              "      <td>NaN</td>\n",
              "      <td>NaN</td>\n",
              "      <td>NaN</td>\n",
              "      <td>NaN</td>\n",
              "      <td>NaN</td>\n",
              "      <td>NaN</td>\n",
              "      <td>NaN</td>\n",
              "      <td>29297.599609</td>\n",
              "      <td>NaN</td>\n",
              "      <td>NaN</td>\n",
              "      <td>NaN</td>\n",
              "      <td>NaN</td>\n",
              "      <td>NaN</td>\n",
              "      <td>NaN</td>\n",
              "      <td>3157.229980</td>\n",
              "      <td>NaN</td>\n",
              "      <td>NaN</td>\n",
              "      <td>NaN</td>\n",
              "      <td>NaN</td>\n",
              "      <td>NaN</td>\n",
              "      <td>NaN</td>\n",
              "      <td>NaN</td>\n",
              "      <td>NaN</td>\n",
              "      <td>NaN</td>\n",
              "      <td>NaN</td>\n",
              "      <td>NaN</td>\n",
              "      <td>NaN</td>\n",
              "      <td>NaN</td>\n",
              "      <td>NaN</td>\n",
              "      <td>NaN</td>\n",
              "      <td>NaN</td>\n",
              "      <td>NaN</td>\n",
              "      <td>NaN</td>\n",
              "      <td>NaN</td>\n",
              "      <td>3074.081055</td>\n",
              "      <td>10967.440430</td>\n",
              "      <td>NaN</td>\n",
              "      <td>NaN</td>\n",
              "      <td>...</td>\n",
              "      <td>NaN</td>\n",
              "      <td>NaN</td>\n",
              "      <td>NaN</td>\n",
              "      <td>NaN</td>\n",
              "      <td>203400.0</td>\n",
              "      <td>140500.0</td>\n",
              "      <td>NaN</td>\n",
              "      <td>NaN</td>\n",
              "      <td>NaN</td>\n",
              "      <td>NaN</td>\n",
              "      <td>NaN</td>\n",
              "      <td>NaN</td>\n",
              "      <td>NaN</td>\n",
              "      <td>0.0</td>\n",
              "      <td>NaN</td>\n",
              "      <td>NaN</td>\n",
              "      <td>NaN</td>\n",
              "      <td>NaN</td>\n",
              "      <td>NaN</td>\n",
              "      <td>NaN</td>\n",
              "      <td>0.0</td>\n",
              "      <td>NaN</td>\n",
              "      <td>NaN</td>\n",
              "      <td>NaN</td>\n",
              "      <td>NaN</td>\n",
              "      <td>NaN</td>\n",
              "      <td>NaN</td>\n",
              "      <td>NaN</td>\n",
              "      <td>NaN</td>\n",
              "      <td>NaN</td>\n",
              "      <td>NaN</td>\n",
              "      <td>NaN</td>\n",
              "      <td>NaN</td>\n",
              "      <td>NaN</td>\n",
              "      <td>NaN</td>\n",
              "      <td>NaN</td>\n",
              "      <td>NaN</td>\n",
              "      <td>NaN</td>\n",
              "      <td>NaN</td>\n",
              "      <td>NaN</td>\n",
              "    </tr>\n",
              "    <tr>\n",
              "      <th>2020-01-17</th>\n",
              "      <td>3075.496094</td>\n",
              "      <td>10954.389648</td>\n",
              "      <td>NaN</td>\n",
              "      <td>NaN</td>\n",
              "      <td>NaN</td>\n",
              "      <td>NaN</td>\n",
              "      <td>NaN</td>\n",
              "      <td>NaN</td>\n",
              "      <td>NaN</td>\n",
              "      <td>29348.099609</td>\n",
              "      <td>NaN</td>\n",
              "      <td>NaN</td>\n",
              "      <td>NaN</td>\n",
              "      <td>NaN</td>\n",
              "      <td>NaN</td>\n",
              "      <td>NaN</td>\n",
              "      <td>3196.879883</td>\n",
              "      <td>NaN</td>\n",
              "      <td>NaN</td>\n",
              "      <td>NaN</td>\n",
              "      <td>NaN</td>\n",
              "      <td>NaN</td>\n",
              "      <td>NaN</td>\n",
              "      <td>NaN</td>\n",
              "      <td>NaN</td>\n",
              "      <td>NaN</td>\n",
              "      <td>NaN</td>\n",
              "      <td>14183.200195</td>\n",
              "      <td>NaN</td>\n",
              "      <td>NaN</td>\n",
              "      <td>NaN</td>\n",
              "      <td>NaN</td>\n",
              "      <td>NaN</td>\n",
              "      <td>NaN</td>\n",
              "      <td>NaN</td>\n",
              "      <td>2622.090088</td>\n",
              "      <td>3075.496094</td>\n",
              "      <td>10954.389648</td>\n",
              "      <td>NaN</td>\n",
              "      <td>NaN</td>\n",
              "      <td>...</td>\n",
              "      <td>NaN</td>\n",
              "      <td>NaN</td>\n",
              "      <td>NaN</td>\n",
              "      <td>2622.090088</td>\n",
              "      <td>190300.0</td>\n",
              "      <td>132800.0</td>\n",
              "      <td>NaN</td>\n",
              "      <td>NaN</td>\n",
              "      <td>NaN</td>\n",
              "      <td>NaN</td>\n",
              "      <td>NaN</td>\n",
              "      <td>NaN</td>\n",
              "      <td>NaN</td>\n",
              "      <td>0.0</td>\n",
              "      <td>NaN</td>\n",
              "      <td>NaN</td>\n",
              "      <td>NaN</td>\n",
              "      <td>NaN</td>\n",
              "      <td>NaN</td>\n",
              "      <td>NaN</td>\n",
              "      <td>0.0</td>\n",
              "      <td>NaN</td>\n",
              "      <td>NaN</td>\n",
              "      <td>NaN</td>\n",
              "      <td>NaN</td>\n",
              "      <td>NaN</td>\n",
              "      <td>NaN</td>\n",
              "      <td>NaN</td>\n",
              "      <td>NaN</td>\n",
              "      <td>NaN</td>\n",
              "      <td>NaN</td>\n",
              "      <td>0.0</td>\n",
              "      <td>NaN</td>\n",
              "      <td>NaN</td>\n",
              "      <td>NaN</td>\n",
              "      <td>NaN</td>\n",
              "      <td>NaN</td>\n",
              "      <td>NaN</td>\n",
              "      <td>NaN</td>\n",
              "      <td>0.0</td>\n",
              "    </tr>\n",
              "  </tbody>\n",
              "</table>\n",
              "<p>5 rows × 216 columns</p>\n",
              "</div>"
            ],
            "text/plain": [
              "              Adj Close                          ...   Volume              \n",
              "              000001.SS     399001.SZ AORD AXJO  ... TA125.TA TWII VIX  XAX\n",
              "Date                                             ...                       \n",
              "2020-01-13  3115.570068  11040.200195  NaN  NaN  ...      NaN  NaN NaN  0.0\n",
              "2020-01-14  3106.820068  10988.769531  NaN  NaN  ...      NaN  NaN NaN  NaN\n",
              "2020-01-15  3090.040039  10972.320312  NaN  NaN  ...      NaN  NaN NaN  NaN\n",
              "2020-01-16  3074.081055  10967.440430  NaN  NaN  ...      NaN  NaN NaN  NaN\n",
              "2020-01-17  3075.496094  10954.389648  NaN  NaN  ...      NaN  NaN NaN  0.0\n",
              "\n",
              "[5 rows x 216 columns]"
            ]
          },
          "metadata": {
            "tags": []
          },
          "execution_count": 42
        }
      ]
    },
    {
      "cell_type": "code",
      "metadata": {
        "id": "TQJGQKuhYBbB"
      },
      "source": [
        "adj_close = df.dropna(thresh=10, axis=1)['Adj Close']"
      ],
      "execution_count": 43,
      "outputs": []
    },
    {
      "cell_type": "code",
      "metadata": {
        "colab": {
          "base_uri": "https://localhost:8080/",
          "height": 228
        },
        "id": "dBY6BrADYWhU",
        "outputId": "c3e51d72-96db-4cb5-eae2-abd9f03f8b65"
      },
      "source": [
        "adj_close.head()"
      ],
      "execution_count": 44,
      "outputs": [
        {
          "output_type": "execute_result",
          "data": {
            "text/html": [
              "<div>\n",
              "<style scoped>\n",
              "    .dataframe tbody tr th:only-of-type {\n",
              "        vertical-align: middle;\n",
              "    }\n",
              "\n",
              "    .dataframe tbody tr th {\n",
              "        vertical-align: top;\n",
              "    }\n",
              "\n",
              "    .dataframe thead th {\n",
              "        text-align: right;\n",
              "    }\n",
              "</style>\n",
              "<table border=\"1\" class=\"dataframe\">\n",
              "  <thead>\n",
              "    <tr style=\"text-align: right;\">\n",
              "      <th></th>\n",
              "      <th>000001.SS</th>\n",
              "      <th>399001.SZ</th>\n",
              "      <th>DJI</th>\n",
              "      <th>HSI</th>\n",
              "      <th>IMOEX.ME</th>\n",
              "      <th>NYA</th>\n",
              "      <th>XAX</th>\n",
              "    </tr>\n",
              "    <tr>\n",
              "      <th>Date</th>\n",
              "      <th></th>\n",
              "      <th></th>\n",
              "      <th></th>\n",
              "      <th></th>\n",
              "      <th></th>\n",
              "      <th></th>\n",
              "      <th></th>\n",
              "    </tr>\n",
              "  </thead>\n",
              "  <tbody>\n",
              "    <tr>\n",
              "      <th>2020-01-13</th>\n",
              "      <td>3115.570068</td>\n",
              "      <td>11040.200195</td>\n",
              "      <td>28907.099609</td>\n",
              "      <td>NaN</td>\n",
              "      <td>3151.689941</td>\n",
              "      <td>14042.599609</td>\n",
              "      <td>2576.770020</td>\n",
              "    </tr>\n",
              "    <tr>\n",
              "      <th>2020-01-14</th>\n",
              "      <td>3106.820068</td>\n",
              "      <td>10988.769531</td>\n",
              "      <td>28939.699219</td>\n",
              "      <td>NaN</td>\n",
              "      <td>3129.770020</td>\n",
              "      <td>NaN</td>\n",
              "      <td>NaN</td>\n",
              "    </tr>\n",
              "    <tr>\n",
              "      <th>2020-01-15</th>\n",
              "      <td>3090.040039</td>\n",
              "      <td>10972.320312</td>\n",
              "      <td>29030.199219</td>\n",
              "      <td>NaN</td>\n",
              "      <td>3132.629883</td>\n",
              "      <td>NaN</td>\n",
              "      <td>NaN</td>\n",
              "    </tr>\n",
              "    <tr>\n",
              "      <th>2020-01-16</th>\n",
              "      <td>3074.081055</td>\n",
              "      <td>10967.440430</td>\n",
              "      <td>29297.599609</td>\n",
              "      <td>NaN</td>\n",
              "      <td>3157.229980</td>\n",
              "      <td>NaN</td>\n",
              "      <td>NaN</td>\n",
              "    </tr>\n",
              "    <tr>\n",
              "      <th>2020-01-17</th>\n",
              "      <td>3075.496094</td>\n",
              "      <td>10954.389648</td>\n",
              "      <td>29348.099609</td>\n",
              "      <td>NaN</td>\n",
              "      <td>3196.879883</td>\n",
              "      <td>14183.200195</td>\n",
              "      <td>2622.090088</td>\n",
              "    </tr>\n",
              "  </tbody>\n",
              "</table>\n",
              "</div>"
            ],
            "text/plain": [
              "              000001.SS     399001.SZ  ...           NYA          XAX\n",
              "Date                                   ...                           \n",
              "2020-01-13  3115.570068  11040.200195  ...  14042.599609  2576.770020\n",
              "2020-01-14  3106.820068  10988.769531  ...           NaN          NaN\n",
              "2020-01-15  3090.040039  10972.320312  ...           NaN          NaN\n",
              "2020-01-16  3074.081055  10967.440430  ...           NaN          NaN\n",
              "2020-01-17  3075.496094  10954.389648  ...  14183.200195  2622.090088\n",
              "\n",
              "[5 rows x 7 columns]"
            ]
          },
          "metadata": {
            "tags": []
          },
          "execution_count": 44
        }
      ]
    },
    {
      "cell_type": "code",
      "metadata": {
        "colab": {
          "base_uri": "https://localhost:8080/",
          "height": 258
        },
        "id": "PK2uEAm8YYM6",
        "outputId": "5e71b189-a21e-43dd-fa18-3109954dbb06"
      },
      "source": [
        "adj_close.describe().T"
      ],
      "execution_count": 45,
      "outputs": [
        {
          "output_type": "execute_result",
          "data": {
            "text/html": [
              "<div>\n",
              "<style scoped>\n",
              "    .dataframe tbody tr th:only-of-type {\n",
              "        vertical-align: middle;\n",
              "    }\n",
              "\n",
              "    .dataframe tbody tr th {\n",
              "        vertical-align: top;\n",
              "    }\n",
              "\n",
              "    .dataframe thead th {\n",
              "        text-align: right;\n",
              "    }\n",
              "</style>\n",
              "<table border=\"1\" class=\"dataframe\">\n",
              "  <thead>\n",
              "    <tr style=\"text-align: right;\">\n",
              "      <th></th>\n",
              "      <th>count</th>\n",
              "      <th>mean</th>\n",
              "      <th>std</th>\n",
              "      <th>min</th>\n",
              "      <th>25%</th>\n",
              "      <th>50%</th>\n",
              "      <th>75%</th>\n",
              "      <th>max</th>\n",
              "    </tr>\n",
              "  </thead>\n",
              "  <tbody>\n",
              "    <tr>\n",
              "      <th>000001.SS</th>\n",
              "      <td>278.0</td>\n",
              "      <td>3194.245617</td>\n",
              "      <td>267.324450</td>\n",
              "      <td>2660.169922</td>\n",
              "      <td>2924.339294</td>\n",
              "      <td>3279.262451</td>\n",
              "      <td>3386.254456</td>\n",
              "      <td>3696.167969</td>\n",
              "    </tr>\n",
              "    <tr>\n",
              "      <th>399001.SZ</th>\n",
              "      <td>278.0</td>\n",
              "      <td>12718.656946</td>\n",
              "      <td>1658.804445</td>\n",
              "      <td>9691.530273</td>\n",
              "      <td>11057.652100</td>\n",
              "      <td>13257.370117</td>\n",
              "      <td>13853.695068</td>\n",
              "      <td>15962.250000</td>\n",
              "    </tr>\n",
              "    <tr>\n",
              "      <th>DJI</th>\n",
              "      <td>277.0</td>\n",
              "      <td>27488.614889</td>\n",
              "      <td>2846.177471</td>\n",
              "      <td>18591.900391</td>\n",
              "      <td>25766.599609</td>\n",
              "      <td>27930.300781</td>\n",
              "      <td>29591.300781</td>\n",
              "      <td>31961.900391</td>\n",
              "    </tr>\n",
              "    <tr>\n",
              "      <th>HSI</th>\n",
              "      <td>275.0</td>\n",
              "      <td>25736.542898</td>\n",
              "      <td>1949.437253</td>\n",
              "      <td>21696.099609</td>\n",
              "      <td>24355.200195</td>\n",
              "      <td>25113.800781</td>\n",
              "      <td>26687.450195</td>\n",
              "      <td>31084.900391</td>\n",
              "    </tr>\n",
              "    <tr>\n",
              "      <th>IMOEX.ME</th>\n",
              "      <td>288.0</td>\n",
              "      <td>2951.681595</td>\n",
              "      <td>292.116425</td>\n",
              "      <td>2112.639893</td>\n",
              "      <td>2761.492493</td>\n",
              "      <td>2924.359985</td>\n",
              "      <td>3143.559937</td>\n",
              "      <td>3495.260010</td>\n",
              "    </tr>\n",
              "    <tr>\n",
              "      <th>NYA</th>\n",
              "      <td>260.0</td>\n",
              "      <td>12932.181720</td>\n",
              "      <td>1510.599379</td>\n",
              "      <td>8777.379883</td>\n",
              "      <td>11921.824707</td>\n",
              "      <td>12913.699707</td>\n",
              "      <td>14116.900146</td>\n",
              "      <td>15539.400391</td>\n",
              "    </tr>\n",
              "    <tr>\n",
              "      <th>XAX</th>\n",
              "      <td>55.0</td>\n",
              "      <td>2091.009624</td>\n",
              "      <td>391.203394</td>\n",
              "      <td>1487.229980</td>\n",
              "      <td>1732.345032</td>\n",
              "      <td>2261.629883</td>\n",
              "      <td>2425.039917</td>\n",
              "      <td>2622.090088</td>\n",
              "    </tr>\n",
              "  </tbody>\n",
              "</table>\n",
              "</div>"
            ],
            "text/plain": [
              "           count          mean  ...           75%           max\n",
              "000001.SS  278.0   3194.245617  ...   3386.254456   3696.167969\n",
              "399001.SZ  278.0  12718.656946  ...  13853.695068  15962.250000\n",
              "DJI        277.0  27488.614889  ...  29591.300781  31961.900391\n",
              "HSI        275.0  25736.542898  ...  26687.450195  31084.900391\n",
              "IMOEX.ME   288.0   2951.681595  ...   3143.559937   3495.260010\n",
              "NYA        260.0  12932.181720  ...  14116.900146  15539.400391\n",
              "XAX         55.0   2091.009624  ...   2425.039917   2622.090088\n",
              "\n",
              "[7 rows x 8 columns]"
            ]
          },
          "metadata": {
            "tags": []
          },
          "execution_count": 45
        }
      ]
    },
    {
      "cell_type": "code",
      "metadata": {
        "colab": {
          "base_uri": "https://localhost:8080/",
          "height": 668
        },
        "id": "lSR9-2u2YiqD",
        "outputId": "a0851741-c1a2-42e3-d7fe-42eb18305d84"
      },
      "source": [
        "adj_close.plot(figsize=(12,12), subplots=True);"
      ],
      "execution_count": 48,
      "outputs": [
        {
          "output_type": "display_data",
          "data": {
            "image/png": "[encoded data removed]",
            "text/plain": [
              "<Figure size 864x864 with 7 Axes>"
            ]
          },
          "metadata": {
            "tags": [],
            "needs_background": "light"
          }
        }
      ]
    },
    {
      "cell_type": "markdown",
      "metadata": {
        "id": "n-yzx9WgY3yF"
      },
      "source": [
        "Will drop XAX due to lack of viable data."
      ]
    },
    {
      "cell_type": "code",
      "metadata": {
        "id": "_U5eXyNRYroI"
      },
      "source": [
        "adj_close = adj_close.drop(\"XAX\", axis=1)"
      ],
      "execution_count": 49,
      "outputs": []
    },
    {
      "cell_type": "code",
      "metadata": {
        "colab": {
          "base_uri": "https://localhost:8080/",
          "height": 1000
        },
        "id": "jWQZhNdjY_a9",
        "outputId": "b460b249-8878-4271-c052-85e88748de06"
      },
      "source": [
        "adj_close.plot(figsize=(12,20), subplots=True);"
      ],
      "execution_count": 51,
      "outputs": [
        {
          "output_type": "display_data",
          "data": {
            "image/png": "[encoded data removed]",
            "text/plain": [
              "<Figure size 864x1440 with 6 Axes>"
            ]
          },
          "metadata": {
            "tags": [],
            "needs_background": "light"
          }
        }
      ]
    },
    {
      "cell_type": "code",
      "metadata": {
        "id": "6G52yTPUZG4J"
      },
      "source": [
        "dji = adj_close['DJI']"
      ],
      "execution_count": 52,
      "outputs": []
    },
    {
      "cell_type": "code",
      "metadata": {
        "colab": {
          "base_uri": "https://localhost:8080/"
        },
        "id": "HruzJhcQZ2lh",
        "outputId": "3efdc7f0-9fee-4944-9a71-3aa483c2578d"
      },
      "source": [
        "dji.resample(\"4M\").mean()"
      ],
      "execution_count": 55,
      "outputs": [
        {
          "output_type": "execute_result",
          "data": {
            "text/plain": [
              "Date\n",
              "2020-01-31    28940.228516\n",
              "2020-05-31    24569.870515\n",
              "2020-09-30    27007.932568\n",
              "2021-01-31    29522.922440\n",
              "2021-05-31    31332.573167\n",
              "Freq: 4M, Name: DJI, dtype: float64"
            ]
          },
          "metadata": {
            "tags": []
          },
          "execution_count": 55
        }
      ]
    },
    {
      "cell_type": "code",
      "metadata": {
        "colab": {
          "base_uri": "https://localhost:8080/"
        },
        "id": "6w-9Dms4Z3Le",
        "outputId": "60a1cbae-feaf-4320-9d63-dde0cc820540"
      },
      "source": [
        "dji"
      ],
      "execution_count": 58,
      "outputs": [
        {
          "output_type": "execute_result",
          "data": {
            "text/plain": [
              "Date\n",
              "2020-01-13    28907.099609\n",
              "2020-01-14    28939.699219\n",
              "2020-01-15    29030.199219\n",
              "2020-01-16    29297.599609\n",
              "2020-01-17    29348.099609\n",
              "                  ...     \n",
              "2021-03-03    31270.099609\n",
              "2021-03-04    30924.099609\n",
              "2021-03-05    31496.300781\n",
              "2021-03-08    31802.400391\n",
              "2021-03-09    31832.699219\n",
              "Name: DJI, Length: 301, dtype: float64"
            ]
          },
          "metadata": {
            "tags": []
          },
          "execution_count": 58
        }
      ]
    },
    {
      "cell_type": "code",
      "metadata": {
        "colab": {
          "base_uri": "https://localhost:8080/"
        },
        "id": "8R8IzuAeaaT1",
        "outputId": "e8577c4f-5500-4f05-ed85-0ca8710df151"
      },
      "source": [
        "dji.shift(1)"
      ],
      "execution_count": 59,
      "outputs": [
        {
          "output_type": "execute_result",
          "data": {
            "text/plain": [
              "Date\n",
              "2020-01-13             NaN\n",
              "2020-01-14    28907.099609\n",
              "2020-01-15    28939.699219\n",
              "2020-01-16    29030.199219\n",
              "2020-01-17    29297.599609\n",
              "                  ...     \n",
              "2021-03-03    31391.500000\n",
              "2021-03-04    31270.099609\n",
              "2021-03-05    30924.099609\n",
              "2021-03-08    31496.300781\n",
              "2021-03-09    31802.400391\n",
              "Name: DJI, Length: 301, dtype: float64"
            ]
          },
          "metadata": {
            "tags": []
          },
          "execution_count": 59
        }
      ]
    },
    {
      "cell_type": "code",
      "metadata": {
        "id": "4wl6AbBEammO"
      },
      "source": [
        "dji_per_change = dji / (dji.shift(1) - 1)"
      ],
      "execution_count": 60,
      "outputs": []
    },
    {
      "cell_type": "code",
      "metadata": {
        "colab": {
          "base_uri": "https://localhost:8080/",
          "height": 392
        },
        "id": "6JYQejtLatfN",
        "outputId": "6568a5db-d7a3-4449-c0de-50128919c403"
      },
      "source": [
        "dji_per_change.plot(figsize=(12,6))"
      ],
      "execution_count": 62,
      "outputs": [
        {
          "output_type": "execute_result",
          "data": {
            "text/plain": [
              "<matplotlib.axes._subplots.AxesSubplot at 0x7fa50056f6d0>"
            ]
          },
          "metadata": {
            "tags": []
          },
          "execution_count": 62
        },
        {
          "output_type": "display_data",
          "data": {
            "image/png": "[encoded data removed]",
            "text/plain": [
              "<Figure size 864x432 with 1 Axes>"
            ]
          },
          "metadata": {
            "tags": [],
            "needs_background": "light"
          }
        }
      ]
    },
    {
      "cell_type": "code",
      "metadata": {
        "id": "T-CiE6EmaueJ"
      },
      "source": [
        "dji_log_returns_shift = np.log(dji / dji.shift(1))"
      ],
      "execution_count": 63,
      "outputs": []
    },
    {
      "cell_type": "code",
      "metadata": {
        "colab": {
          "base_uri": "https://localhost:8080/",
          "height": 374
        },
        "id": "Zs7cKifBbPHw",
        "outputId": "b4e6f33c-a201-4792-a889-8d52cd1684fb"
      },
      "source": [
        "dji_log_returns_shift.plot(figsize=(12,6));"
      ],
      "execution_count": 64,
      "outputs": [
        {
          "output_type": "display_data",
          "data": {
            "image/png": "[encoded data removed]",
            "text/plain": [
              "<Figure size 864x432 with 1 Axes>"
            ]
          },
          "metadata": {
            "tags": [],
            "needs_background": "light"
          }
        }
      ]
    },
    {
      "cell_type": "code",
      "metadata": {
        "colab": {
          "base_uri": "https://localhost:8080/",
          "height": 700
        },
        "id": "QfRDqahqbTn0",
        "outputId": "e86db22b-0dc6-411b-9173-15d3b1c6e95f"
      },
      "source": [
        "dji.hist(bins=50, figsize=(12,12));"
      ],
      "execution_count": 67,
      "outputs": [
        {
          "output_type": "display_data",
          "data": {
            "image/png": "[encoded data removed]",
            "text/plain": [
              "<Figure size 864x864 with 1 Axes>"
            ]
          },
          "metadata": {
            "tags": [],
            "needs_background": "light"
          }
        }
      ]
    },
    {
      "cell_type": "code",
      "metadata": {
        "colab": {
          "base_uri": "https://localhost:8080/",
          "height": 700
        },
        "id": "XLkFTYU5ba47",
        "outputId": "cd6d0ebc-ad94-42fd-f21e-53b59cbdd4fb"
      },
      "source": [
        "dji_log_returns_shift.hist(bins=50, figsize=(12,12));"
      ],
      "execution_count": 68,
      "outputs": [
        {
          "output_type": "display_data",
          "data": {
            "image/png": "[encoded data removed]",
            "text/plain": [
              "<Figure size 864x864 with 1 Axes>"
            ]
          },
          "metadata": {
            "tags": [],
            "needs_background": "light"
          }
        }
      ]
    },
    {
      "cell_type": "code",
      "metadata": {
        "colab": {
          "base_uri": "https://localhost:8080/",
          "height": 700
        },
        "id": "HGfLPSFebmlB",
        "outputId": "7fe6cded-2539-4db0-8667-b703e4db29b0"
      },
      "source": [
        "dji_per_change.hist(bins=50, figsize=(12,12));"
      ],
      "execution_count": 69,
      "outputs": [
        {
          "output_type": "display_data",
          "data": {
            "image/png": "[encoded data removed]",
            "text/plain": [
              "<Figure size 864x864 with 1 Axes>"
            ]
          },
          "metadata": {
            "tags": [],
            "needs_background": "light"
          }
        }
      ]
    },
    {
      "cell_type": "code",
      "metadata": {
        "id": "6FfCkYMVbrN4"
      },
      "source": [
        ""
      ],
      "execution_count": null,
      "outputs": []
    }
  ]
}