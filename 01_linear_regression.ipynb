{
  "nbformat": 4,
  "nbformat_minor": 0,
  "metadata": {
    "colab": {
      "name": "01_linear_regression.ipynb",
      "provenance": [],
      "authorship_tag": "ABX9TyNb5VwAkKOfdBriT6AcAe3P",
      "include_colab_link": true
    },
    "kernelspec": {
      "name": "python3",
      "display_name": "Python 3"
    }
  },
  "cells": [
    {
      "cell_type": "markdown",
      "metadata": {
        "id": "view-in-github",
        "colab_type": "text"
      },
      "source": [
        "<a href=\"https://colab.research.google.com/github/markumreed/colab_sklearn/blob/main/01_linear_regression.ipynb\" target=\"_parent\"><img src=\"https://colab.research.google.com/assets/colab-badge.svg\" alt=\"Open In Colab\"/></a>"
      ]
    },
    {
      "cell_type": "markdown",
      "metadata": {
        "id": "ATOoUGof6eMD"
      },
      "source": [
        "# Linear Regression Example\n",
        "\n",
        "Your neighbor is a real estate agent and wants some help predicting housing prices for regions in the USA. It would be great if you could somehow create a model for her that allows her to put in a few features of a house and returns back an estimate of what the house would sell for.\n",
        "\n",
        "She has asked you if you could help her out with your new data science skills. You say yes, and decide that Linear Regression might be a good path to solve this problem!\n",
        "\n",
        "Your neighbor then gives you some information about a bunch of houses in regions of the United States,it is all in the data set: USA_Housing.csv.\n",
        "\n",
        "The data contains the following columns:\n",
        "\n",
        "-  **Avg. Area Income**: Avg. Income of residents of the city house is located in.\n",
        "- **Avg. Area House Age**: Avg Age of Houses in same city\n",
        "- **Avg. Area Number of Rooms**: Avg Number of Rooms for Houses in same city\n",
        "- **Avg. Area Number of Bedrooms**: Avg Number of Bedrooms for Houses in same city\n",
        "- **Area Population**: Population of city house is located in\n",
        "- **Price**: Price that the house sold at\n",
        "- **Address**: Address for the house"
      ]
    },
    {
      "cell_type": "markdown",
      "metadata": {
        "id": "ygaQvvFS71NJ"
      },
      "source": [
        "## Import the Data"
      ]
    },
    {
      "cell_type": "code",
      "metadata": {
        "colab": {
          "base_uri": "https://localhost:8080/"
        },
        "id": "H5272bfN6ZXi",
        "outputId": "c428ae04-c75e-46fd-9af9-086c9b9f29d1"
      },
      "source": [
        "!curl https://raw.githubusercontent.com/markumreed/colab_sklearn/main/housing.csv >> housing.csv"
      ],
      "execution_count": 1,
      "outputs": [
        {
          "output_type": "stream",
          "text": [
            "  % Total    % Received % Xferd  Average Speed   Time    Time     Time  Current\n",
            "                                 Dload  Upload   Total   Spent    Left  Speed\n",
            "100  709k  100  709k    0     0  1030k      0 --:--:-- --:--:-- --:--:-- 1029k\n"
          ],
          "name": "stdout"
        }
      ]
    },
    {
      "cell_type": "code",
      "metadata": {
        "id": "sIA8KuWW7jv4"
      },
      "source": [
        ""
      ],
      "execution_count": null,
      "outputs": []
    },
    {
      "cell_type": "markdown",
      "metadata": {
        "id": "2SinoGa5768k"
      },
      "source": [
        "## Exploratory Data Analysis"
      ]
    },
    {
      "cell_type": "code",
      "metadata": {
        "id": "k2ZX_Lys79jq"
      },
      "source": [
        ""
      ],
      "execution_count": null,
      "outputs": []
    },
    {
      "cell_type": "markdown",
      "metadata": {
        "id": "eFkPXKBC7_c2"
      },
      "source": [
        "## Training a Linear Regression Model\n"
      ]
    }
  ]
}