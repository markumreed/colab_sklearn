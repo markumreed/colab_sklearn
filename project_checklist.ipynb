{
  "nbformat": 4,
  "nbformat_minor": 0,
  "metadata": {
    "kernelspec": {
      "display_name": "Python 3",
      "language": "python",
      "name": "python3"
    },
    "language_info": {
      "codemirror_mode": {
        "name": "ipython",
        "version": 2
      },
      "file_extension": ".py",
      "mimetype": "text/x-python",
      "name": "python",
      "nbconvert_exporter": "python",
      "pygments_lexer": "ipython2",
      "version": "2.7.6"
    },
    "colab": {
      "name": "project_checklist.ipynb",
      "provenance": [],
      "include_colab_link": true
    }
  },
  "cells": [
    {
      "cell_type": "markdown",
      "metadata": {
        "id": "view-in-github",
        "colab_type": "text"
      },
      "source": [
        "<a href=\"https://colab.research.google.com/github/markumreed/colab_sklearn/blob/main/project_checklist.ipynb\" target=\"_parent\"><img src=\"https://colab.research.google.com/assets/colab-badge.svg\" alt=\"Open In Colab\"/></a>"
      ]
    },
    {
      "cell_type": "markdown",
      "metadata": {
        "collapsed": true,
        "pycharm": {
          "name": "#%% md\n"
        },
        "id": "z4iRdn4ER3s_"
      },
      "source": [
        "# Frame the problem and look at the big picture.\n",
        "1. Define the objective in business terms.\n",
        "1. How will your solution be used?\n",
        "1. What are the current solutions/workarounds (if any)?\n",
        "1. How should you frame this problem?\n",
        "1. How should performance be measured?\n",
        "1. Is the performance measure aligned with the business objective?\n",
        "1. What would be the minimum performance needed to reach the business objective?\n",
        "1. What are comparable problems? Can you reuse experience or tools?\n",
        "1. Is human expertise available?\n",
        "1. How would you solve the problem manually?\n",
        "1. List the assumptions you (or others) have made so far?\n",
        "1. Verify assumptions if possible."
      ]
    },
    {
      "cell_type": "markdown",
      "metadata": {
        "collapsed": false,
        "id": "BqsvcoU5R3tA"
      },
      "source": [
        "# Get the data\n",
        "Note: Automate as much possible so you can easily get fresh data.\n",
        "\n",
        "1. List the data you need and how much you need.\n",
        "1. Find and document where you can get the data.\n",
        "1. Check how much space it will take.\n",
        "1. Check legal obligations and get authorization if necessary.\n",
        "1. Get access authorizations.\n",
        "1. Create a workspace (with enough storage space)\n",
        "1. Get the data.\n",
        "1. Convert the data to a format you can easily manipulate (without changing the data itself.)\n",
        "1. Ensure sensitive information is deleted or protected (e.g., anonymized)\n",
        "1. Check the size and type of data (time series, sample, geographical, etc)."
      ]
    },
    {
      "cell_type": "markdown",
      "metadata": {
        "collapsed": false,
        "id": "8umCdSNFR3tA"
      },
      "source": [
        "# Explore the data to gain insights.\n",
        "1. Create a copy of the data for exploration (sampling it down to a manageable size if necessary.)\n",
        "1. Create a R project to keep a record of your data exploration.\n",
        "1. Study each attribute and its characteristics.\n",
        "    - Name\n",
        "    - Type (categorical, int/float, bounded/unbounded, text, structured, etc.)\n",
        "    - % of missing values\n",
        "    - Noisiness and type of noise (stochastic, outliers, rounding errors, etc.)\n",
        "    - Usefulness for the task\n",
        "    - Type of distribution (Gaussian, uniform, logarithmic, etc.)\n",
        "1. Identify the target attribute(s).\n",
        "1. Visualize the data.\n",
        "1. Study the correlations between attributes.\n",
        "1. Study how you would solve the problem manually.\n",
        "1. Identify the promising transformations you may want to apply.\n",
        "1. Identify extra data that would be useful.\n",
        "1. Document what you have learned.\n"
      ]
    },
    {
      "cell_type": "markdown",
      "metadata": {
        "collapsed": false,
        "pycharm": {
          "name": "#%% md\n"
        },
        "id": "ke6oXyVnR3tA"
      },
      "source": [
        "# Prepare the Data\n",
        "\n",
        "Notes:\n",
        "- Work on copies of the data (keep the original dataset intact)\n",
        "- Write functions for all data transformations you apply, for five reasons:\n",
        "    1. So you can easily prepare the data the next time you get a fresh dataset\n",
        "    1. So you can apply these transformations in future projects\n",
        "    1. To clean and prepare the test set\n",
        "    1. To clean and prepare new data instances once your solution is live.\n",
        "    1. To make it easy to treat your preparation choices\n",
        "\n",
        "\n",
        "1. Data Cleaning\n",
        "    - Fix or remove outliers\n",
        "    - Fill in missing values (e.g. with zero, mean, median...) or drop their rows (or columns)\n",
        "1. Feature selection\n",
        "    - Drop the attributes that provide no useful information for the task.\n",
        "1. Feature engineering, where appropriate:\n",
        "    - Discretize continuous features\n",
        "    - Decompose features (e.g., categorical, date/time, etc)\n",
        "    - Add promising transformations to features (e.g., log(x), sqrt(x),etc.).\n",
        "    - Aggregate features into promising new features.\n",
        "1. Feature scaling:\n",
        "    - Standardize or normalize features."
      ]
    },
    {
      "cell_type": "markdown",
      "metadata": {
        "id": "HqXXWqJOR7el"
      },
      "source": [
        "# Shortlist Promising Models\n",
        "\n",
        "1. Train many quick-and-dirty models from different categories (e.g. linear, naive Bayes, SVM, Random Forest, neural net, etc.) using standard parameters.\n",
        "1. Measure and compare thier performance.\n",
        "  - For each model, use N-fold cross-validation and compute the mean and standard deviation of the performance measure on the N folds. \n",
        "1. Analyse the most significate variables for each algorithm.\n",
        "1. Analyze the types of errors the models make.\n",
        "  - What data would a human have used to avoid these errors?\n",
        "1. Perform a quick round of feature selection and engineering.\n",
        "1. Perfon one or two more quick iterations of the five previous steps.\n",
        "1. Shortlist the top three to five most promising models, preferring models that make different types of errors. \n"
      ]
    },
    {
      "cell_type": "markdown",
      "metadata": {
        "id": "cC63S5d6Szg3"
      },
      "source": [
        "# Fine-Tune the System\n",
        "1. Fine-tune the hyperparameters using cross-validation. \n",
        "1. Try Ensemble methods. Combining your best models will often produce better performance than running them individually.\n",
        "1. Once you are confident about your final model, measure its performance on the test set to estimate the generlization error. \n",
        "\n",
        "**DO NOT TWEAK YOUR MODEL AFTER MEASURING THE GENERALIZATION ERROR: YOU WOULD JUST START OVERFITTING THE TEST SET!**"
      ]
    },
    {
      "cell_type": "markdown",
      "metadata": {
        "id": "u3zU6copTXI-"
      },
      "source": [
        "# Present You Solution\n",
        "\n",
        "1. Document what you have done. \n",
        "1. Create a nice presentation\n",
        "1. Explain why your solution achieves the business objective.\n",
        "1. Don't forget to present interesting points you noticed along the way. \n",
        "1. Ensure your key finding are communicated through beautiful visualization or easy-to-remember statements."
      ]
    }
  ]
}