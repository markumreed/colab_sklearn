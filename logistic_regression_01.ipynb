{
  "nbformat": 4,
  "nbformat_minor": 0,
  "metadata": {
    "colab": {
      "name": "logistic_regression_01.ipynb",
      "provenance": [],
      "authorship_tag": "ABX9TyNC8evrpioeMmNRpMA65StD",
      "include_colab_link": true
    },
    "kernelspec": {
      "name": "python3",
      "display_name": "Python 3"
    }
  },
  "cells": [
    {
      "cell_type": "markdown",
      "metadata": {
        "id": "view-in-github",
        "colab_type": "text"
      },
      "source": [
        "<a href=\"https://colab.research.google.com/github/markumreed/colab_sklearn/blob/main/logistic_regression_01.ipynb\" target=\"_parent\"><img src=\"https://colab.research.google.com/assets/colab-badge.svg\" alt=\"Open In Colab\"/></a>"
      ]
    },
    {
      "cell_type": "markdown",
      "metadata": {
        "id": "TxOEWxyWUV9R"
      },
      "source": [
        "# Logistic Regression with Python\n",
        "\n",
        "- Predict a classification- survival or deceased. \n",
        "- Implemente Logistic Regression in Python for classification."
      ]
    },
    {
      "cell_type": "code",
      "metadata": {
        "id": "Oi9XvpzrSQpB"
      },
      "source": [
        "import pandas as pd\n",
        "import numpy as np\n",
        "import seaborn as sns\n",
        "import matplotlib.pyplot as plt\n",
        "%matplotlib inline"
      ],
      "execution_count": 1,
      "outputs": []
    },
    {
      "cell_type": "code",
      "metadata": {
        "id": "3Ko0_AZgSWmJ"
      },
      "source": [
        "titanic = sns.load_dataset(\"titanic\")"
      ],
      "execution_count": 3,
      "outputs": []
    }
  ]
}